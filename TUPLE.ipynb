{
  "nbformat": 4,
  "nbformat_minor": 0,
  "metadata": {
    "colab": {
      "name": "TUPLE",
      "provenance": [],
      "collapsed_sections": [],
      "authorship_tag": "ABX9TyNixKKBvjQaM+zPxjjAzL5J",
      "include_colab_link": true
    },
    "kernelspec": {
      "name": "python3",
      "display_name": "Python 3"
    },
    "language_info": {
      "name": "python"
    }
  },
  "cells": [
    {
      "cell_type": "markdown",
      "metadata": {
        "id": "view-in-github",
        "colab_type": "text"
      },
      "source": [
        "<a href=\"https://colab.research.google.com/github/VU21CSEN0100182/PYTHON/blob/main/TUPLE.ipynb\" target=\"_parent\"><img src=\"https://colab.research.google.com/assets/colab-badge.svg\" alt=\"Open In Colab\"/></a>"
      ]
    },
    {
      "cell_type": "markdown",
      "source": [
        "# Python Tuple"
      ],
      "metadata": {
        "id": "JKOc_7ZpwuER"
      }
    },
    {
      "cell_type": "code",
      "execution_count": 3,
      "metadata": {
        "colab": {
          "base_uri": "https://localhost:8080/"
        },
        "id": "PA5KTvktr6pr",
        "outputId": "b0f50104-4512-4ecb-8632-d73df7a50979"
      },
      "outputs": [
        {
          "output_type": "stream",
          "name": "stdout",
          "text": [
            "('blue', 'black', 'white', 'pink', 'green')\n"
          ]
        }
      ],
      "source": [
        "a=(\"blue\",\"black\",\"white\",\"pink\",\"green\")\n",
        "print(a)"
      ]
    },
    {
      "cell_type": "code",
      "source": [
        "#Duplicates\n",
        "\n",
        "a=(\"blue\",\"black\",\"pink\",\"blue\",\"pink\",\"blue\")\n",
        "print(a)"
      ],
      "metadata": {
        "colab": {
          "base_uri": "https://localhost:8080/"
        },
        "id": "I3t-2XP1w3FR",
        "outputId": "77f4d290-dad9-427c-e40f-5ea18fb45c5a"
      },
      "execution_count": 5,
      "outputs": [
        {
          "output_type": "stream",
          "name": "stdout",
          "text": [
            "('blue', 'black', 'pink', 'blue', 'pink', 'blue')\n"
          ]
        }
      ]
    },
    {
      "cell_type": "code",
      "source": [
        "#Tuple Length\n",
        "\n",
        "a=(\"cat\"\"dog\"\"rabbit\")\n",
        "print(len(a))\n",
        "\n",
        "a=(\"cat dog rabbit\")\n",
        "print(len(a))\n",
        "\n",
        "a=(\"cat , dog , rabbit\")\n",
        "print(len(a))"
      ],
      "metadata": {
        "colab": {
          "base_uri": "https://localhost:8080/"
        },
        "id": "WxHMiazvxboh",
        "outputId": "1f8097a3-a173-4035-b18e-2fdaa0ecf3ff"
      },
      "execution_count": 34,
      "outputs": [
        {
          "output_type": "stream",
          "name": "stdout",
          "text": [
            "12\n",
            "14\n",
            "18\n"
          ]
        }
      ]
    },
    {
      "cell_type": "code",
      "source": [
        "# Tuple With One Item\n",
        "\n",
        "a=(\"chocolate\",\"apple\", )\n",
        "print(type(a))"
      ],
      "metadata": {
        "colab": {
          "base_uri": "https://localhost:8080/"
        },
        "id": "TOsosqi9ySqK",
        "outputId": "01211822-4893-4722-9e7f-e41b1fd1b3bc"
      },
      "execution_count": 12,
      "outputs": [
        {
          "output_type": "stream",
          "name": "stdout",
          "text": [
            "<class 'tuple'>\n"
          ]
        }
      ]
    },
    {
      "cell_type": "code",
      "source": [
        "#Data Types\n",
        "\n",
        "a=(\"blue\",\"pink\",\"vilot\")\n",
        "b=(\"mango\",\"apple\",\"orange\")\n",
        "c=(\"chocolate\",\"ice cream\")\n",
        "print(a)\n",
        "print(b)\n",
        "print(c)"
      ],
      "metadata": {
        "colab": {
          "base_uri": "https://localhost:8080/"
        },
        "id": "NQoJTCTby-rR",
        "outputId": "9f3ca43c-0a39-46ab-d015-6dc17819bef1"
      },
      "execution_count": 15,
      "outputs": [
        {
          "output_type": "stream",
          "name": "stdout",
          "text": [
            "('blue', 'pink', 'vilot')\n",
            "('mango', 'apple', 'orange')\n",
            "('chocolate', 'ice cream')\n"
          ]
        }
      ]
    },
    {
      "cell_type": "code",
      "source": [
        "#Data Types\n",
        "\n",
        "a=(\"blue\",\"pink\",\"vilot\")\n",
        "b=(\"mango\",\"apple\",\"orange\")\n",
        "c=(\"chocolate\",\"ice cream\")\n",
        "print(a,b,c)"
      ],
      "metadata": {
        "colab": {
          "base_uri": "https://localhost:8080/"
        },
        "id": "wgpjKRBr4Dil",
        "outputId": "10e5e08c-eacb-45ef-8bce-b927d773ca45"
      },
      "execution_count": 35,
      "outputs": [
        {
          "output_type": "stream",
          "name": "stdout",
          "text": [
            "('blue', 'pink', 'vilot') ('mango', 'apple', 'orange') ('chocolate', 'ice cream')\n"
          ]
        }
      ]
    },
    {
      "cell_type": "code",
      "source": [
        "#A tuple with strings, integers and boolean value\n",
        "a=(\"blue\",\"mango\",\"carrot\",11,\"chocolate\",\"true\",26,\"abc\")\n",
        "print(a)"
      ],
      "metadata": {
        "colab": {
          "base_uri": "https://localhost:8080/"
        },
        "id": "KbtgRMx_zki7",
        "outputId": "0b6a8374-d512-481b-9b0e-88bcd8bfde75"
      },
      "execution_count": 19,
      "outputs": [
        {
          "output_type": "stream",
          "name": "stdout",
          "text": [
            "('blue', 'mango', 'carrot', 11, 'chocolate', 'true', 26, 'abc')\n"
          ]
        }
      ]
    },
    {
      "cell_type": "code",
      "source": [
        "#type\n",
        "\n",
        "a=(\"carrot\",\"mango\",\"orange\",\"17\")\n",
        "print(type(a))"
      ],
      "metadata": {
        "colab": {
          "base_uri": "https://localhost:8080/"
        },
        "id": "OpENfRroz1E_",
        "outputId": "8d98a2e4-9d17-464c-9bf9-7d926f401a56"
      },
      "execution_count": 18,
      "outputs": [
        {
          "output_type": "stream",
          "name": "stdout",
          "text": [
            "<class 'tuple'>\n"
          ]
        }
      ]
    },
    {
      "cell_type": "code",
      "source": [
        "#The tuple() Constructor\n",
        "\n",
        "a=('carrot',\"mango\",\"orange\",17)\n",
        "a=tuple((\"carrot\",))\n",
        "b=tuple((\"mango\"))\n",
        "c=tuple((\"yellow\"))\n",
        "d=tuple((\"blue,pink\"))\n",
        "e=tuple((\"blue\",\"pink\"))\n",
        "print(a)\n",
        "print(b)\n",
        "print(c)\n",
        "print(d)\n",
        "print(e)"
      ],
      "metadata": {
        "colab": {
          "base_uri": "https://localhost:8080/"
        },
        "id": "rQknCIde0kzT",
        "outputId": "cc51b2b7-f77e-48e2-aab8-6e2828ee5518"
      },
      "execution_count": 36,
      "outputs": [
        {
          "output_type": "stream",
          "name": "stdout",
          "text": [
            "('carrot',)\n",
            "('m', 'a', 'n', 'g', 'o')\n",
            "('y', 'e', 'l', 'l', 'o', 'w')\n",
            "('b', 'l', 'u', 'e', ',', 'p', 'i', 'n', 'k')\n",
            "('blue', 'pink')\n"
          ]
        }
      ]
    },
    {
      "cell_type": "markdown",
      "source": [
        "# Python Access Tuples"
      ],
      "metadata": {
        "id": "_GMT6sF24zKs"
      }
    },
    {
      "cell_type": "code",
      "source": [
        "colors=(\"white\",\"pink\",\"yellow\",\"blue\",\"black\",\"vilote\",\"orange\",\"green\")\n",
        "print(colors[4])\n",
        "\n",
        "colors=(\"white\",\"pink\",\"yellow\",\"blue\",\"black\",\"vilote\",\"orange\",\"green\")\n",
        "print(colors[4])\n",
        "print(colors[7])\n",
        "print(colors[3])\n",
        "\n",
        "#Negative Indexing\n",
        "\n",
        "num=(\"11\",\"56\",\"apple\",\"blue\",\"47\",\"289\")\n",
        "print(num[-2])"
      ],
      "metadata": {
        "colab": {
          "base_uri": "https://localhost:8080/"
        },
        "id": "ZV0Tn8Ja1BAn",
        "outputId": "e9fb04f6-fe35-4c05-e086-bab0753ae600"
      },
      "execution_count": 43,
      "outputs": [
        {
          "output_type": "stream",
          "name": "stdout",
          "text": [
            "black\n",
            "black\n",
            "green\n",
            "blue\n",
            "47\n"
          ]
        }
      ]
    },
    {
      "cell_type": "code",
      "source": [
        "#Range of Indexes\n",
        "\n",
        "a=(\"kiwi\",\"melon\",\"blue berry\",\"rasberry\",\"orange\",\"mango\",\"aplle\",\"mango\",\"banana\")\n",
        "print(a[0:7])\n",
        "print(a[5:-1])\n",
        "\n",
        "a=(\"kiwi\",\"melon\",\"blue berry\",\"rasberry\",\"orange\",\"mango\",\"aplle\",\"mango\",\"banana\")\n",
        "print(a[5:0])\n",
        "\n",
        "a=(\"kiwi\",\"melon\",\"blue berry\",\"rasberry\",\"orange\",\"mango\",\"aplle\",\"mango\",\"banana\")\n",
        "print(a[:7])\n",
        "print(a[0])\n",
        "print(a[6:])\n",
        "print(a[0:])"
      ],
      "metadata": {
        "colab": {
          "base_uri": "https://localhost:8080/"
        },
        "id": "fQew7Oua532k",
        "outputId": "ae7332c8-fb44-4173-e87e-0d0c4f556325"
      },
      "execution_count": 60,
      "outputs": [
        {
          "output_type": "stream",
          "name": "stdout",
          "text": [
            "('kiwi', 'melon', 'blue berry', 'rasberry', 'orange', 'mango', 'aplle')\n",
            "('mango', 'aplle', 'mango')\n",
            "()\n",
            "('kiwi', 'melon', 'blue berry', 'rasberry', 'orange', 'mango', 'aplle')\n",
            "kiwi\n",
            "('aplle', 'mango', 'banana')\n",
            "('kiwi', 'melon', 'blue berry', 'rasberry', 'orange', 'mango', 'aplle', 'mango', 'banana')\n"
          ]
        }
      ]
    },
    {
      "cell_type": "code",
      "source": [
        "#Range of Negative Indexes\n",
        "\n",
        "a=(\"kiwi\",\"melon\",\"blue berry\",\"rasberry\",\"orange\",\"mango\",\"apple\",\"mango\",\"banana\")\n",
        "print(a[-4:-1])\n",
        "print(a[-4:-8])\n",
        "print(a[-4:-3])\n",
        "print(a[-4:-2])"
      ],
      "metadata": {
        "colab": {
          "base_uri": "https://localhost:8080/"
        },
        "id": "_yxFIfoQ80RH",
        "outputId": "9461b506-bf2a-4ab0-fff6-19ef11f34da5"
      },
      "execution_count": 71,
      "outputs": [
        {
          "output_type": "stream",
          "name": "stdout",
          "text": [
            "('mango', 'apple', 'mango')\n",
            "()\n",
            "('mango',)\n",
            "('mango', 'apple')\n"
          ]
        }
      ]
    },
    {
      "cell_type": "code",
      "source": [
        "#Check if Item Exists\n",
        "\n",
        "tuple=(\"apple\",\"carrot\",\"blue\")\n",
        "if \"apple\" in tuple:\n",
        "  print(\"yes, 'apple' is in the fruits tuple\")"
      ],
      "metadata": {
        "colab": {
          "base_uri": "https://localhost:8080/"
        },
        "id": "Dqy1Rfch9qkV",
        "outputId": "587570f1-fde9-49a0-beb5-cde7952dd09f"
      },
      "execution_count": 80,
      "outputs": [
        {
          "output_type": "stream",
          "name": "stdout",
          "text": [
            "yes, 'apple' is in the fruits tuple\n"
          ]
        }
      ]
    },
    {
      "cell_type": "code",
      "source": [
        "tuple=(\"apple\",\"carrot\",\"blue\")\n",
        "if \"kiwi\" in tuple:     \n",
        "  print(\"yes, 'apple' is in the fruits tuple\")\n",
        "elif \"carrot\" in tuple:\n",
        "   print(\"yes, 'carrot' is in the vegitable tuple\")"
      ],
      "metadata": {
        "colab": {
          "base_uri": "https://localhost:8080/"
        },
        "id": "lowI8hza-_ni",
        "outputId": "934ca3b4-76b5-4e12-92e0-5d98868b1cba"
      },
      "execution_count": 86,
      "outputs": [
        {
          "output_type": "stream",
          "name": "stdout",
          "text": [
            "yes, 'carrot' is in the vegitable tuple\n"
          ]
        }
      ]
    },
    {
      "cell_type": "markdown",
      "source": [
        "set"
      ],
      "metadata": {
        "id": "EC-YF0yjEL7o"
      }
    },
    {
      "cell_type": "code",
      "source": [
        "#tuple and set\n",
        "\n",
        "a=(\"blue\",\"black\",\"white\",\"pink\",\"green\")\n",
        "print(a)\n",
        "set={\"blue\",\"black\",\"white\",\"pink\"}\n",
        "print(set)"
      ],
      "metadata": {
        "colab": {
          "base_uri": "https://localhost:8080/"
        },
        "id": "JYNN_tNwCu9p",
        "outputId": "8082300a-0f67-4eae-fe45-285dcf881227"
      },
      "execution_count": 88,
      "outputs": [
        {
          "output_type": "stream",
          "name": "stdout",
          "text": [
            "('blue', 'black', 'white', 'pink', 'green')\n",
            "{'white', 'black', 'pink', 'blue'}\n"
          ]
        }
      ]
    },
    {
      "cell_type": "code",
      "source": [
        "#Duplicate\n",
        "set = {\"apple\", \"banana\", \"cherry\", \"apple\"}\n",
        "print(set)"
      ],
      "metadata": {
        "colab": {
          "base_uri": "https://localhost:8080/"
        },
        "id": "-SKYw2dLDUnp",
        "outputId": "16e31ece-3175-4531-e786-4443a0c50026"
      },
      "execution_count": 89,
      "outputs": [
        {
          "output_type": "stream",
          "name": "stdout",
          "text": [
            "{'banana', 'cherry', 'apple'}\n"
          ]
        }
      ]
    }
  ]
}