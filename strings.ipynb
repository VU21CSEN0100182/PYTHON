{
  "nbformat": 4,
  "nbformat_minor": 0,
  "metadata": {
    "colab": {
      "name": "strings",
      "provenance": [],
      "authorship_tag": "ABX9TyM3XZM+iJC7V7R9jccfi6Y8",
      "include_colab_link": true
    },
    "kernelspec": {
      "name": "python3",
      "display_name": "Python 3"
    },
    "language_info": {
      "name": "python"
    }
  },
  "cells": [
    {
      "cell_type": "markdown",
      "metadata": {
        "id": "view-in-github",
        "colab_type": "text"
      },
      "source": [
        "<a href=\"https://colab.research.google.com/github/VU21CSEN0100182/PYTHON/blob/main/strings.ipynb\" target=\"_parent\"><img src=\"https://colab.research.google.com/assets/colab-badge.svg\" alt=\"Open In Colab\"/></a>"
      ]
    },
    {
      "cell_type": "code",
      "execution_count": 7,
      "metadata": {
        "colab": {
          "base_uri": "https://localhost:8080/"
        },
        "id": "PUgXTvYU7qDq",
        "outputId": "b5a21f98-5918-4985-e4c2-da6023002541"
      },
      "outputs": [
        {
          "output_type": "stream",
          "name": "stdout",
          "text": [
            "python\n",
            "<class 'str'>\n",
            "n\n",
            "o\n",
            "t\n"
          ]
        }
      ],
      "source": [
        "a=\"python\"\n",
        "print(a)\n",
        "print(type(a))\n",
        "print(a[5])\n",
        "print(a[4])\n",
        "print(a[2])"
      ]
    },
    {
      "cell_type": "code",
      "source": [
        "a=\"hello string\"\n",
        "print(len(a))"
      ],
      "metadata": {
        "colab": {
          "base_uri": "https://localhost:8080/"
        },
        "id": "ylSzTHkf8lnS",
        "outputId": "3e404609-369a-44c6-d039-c25e1d4960c1"
      },
      "execution_count": 12,
      "outputs": [
        {
          "output_type": "stream",
          "name": "stdout",
          "text": [
            "12\n"
          ]
        }
      ]
    },
    {
      "cell_type": "code",
      "source": [
        "a=\"RRR movie has been released\"\n",
        "print(\"RRR\" in a)"
      ],
      "metadata": {
        "colab": {
          "base_uri": "https://localhost:8080/"
        },
        "id": "t9Qtouvy87DJ",
        "outputId": "35522cd6-5cf7-417a-8c71-0c50b7d0f7d8"
      },
      "execution_count": 13,
      "outputs": [
        {
          "output_type": "stream",
          "name": "stdout",
          "text": [
            "True\n"
          ]
        }
      ]
    },
    {
      "cell_type": "markdown",
      "source": [
        "not in:"
      ],
      "metadata": {
        "id": "yTK_dCi190Jo"
      }
    },
    {
      "cell_type": "code",
      "source": [
        "a=\"RRR movie has been released\"\n",
        "print(\"RRR\" not in a)"
      ],
      "metadata": {
        "colab": {
          "base_uri": "https://localhost:8080/"
        },
        "id": "_MbfEgnt9bPR",
        "outputId": "faaed132-ec37-465c-8267-af5732d228ca"
      },
      "execution_count": 14,
      "outputs": [
        {
          "output_type": "stream",
          "name": "stdout",
          "text": [
            "False\n"
          ]
        }
      ]
    },
    {
      "cell_type": "code",
      "source": [
        "a=\"RRR movie has been released\"\n",
        "print(a[2:5])"
      ],
      "metadata": {
        "colab": {
          "base_uri": "https://localhost:8080/"
        },
        "id": "dwDqz6lQ-Alp",
        "outputId": "99af2355-77ec-48cd-d82d-8927c8da1ba1"
      },
      "execution_count": 20,
      "outputs": [
        {
          "output_type": "stream",
          "name": "stdout",
          "text": [
            "RRR\n"
          ]
        }
      ]
    }
  ]
}