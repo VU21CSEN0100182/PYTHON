{
  "nbformat": 4,
  "nbformat_minor": 0,
  "metadata": {
    "colab": {
      "name": "strings",
      "provenance": [],
      "authorship_tag": "ABX9TyNBVg/JQIih+0FB1nXL455O",
      "include_colab_link": true
    },
    "kernelspec": {
      "name": "python3",
      "display_name": "Python 3"
    },
    "language_info": {
      "name": "python"
    }
  },
  "cells": [
    {
      "cell_type": "markdown",
      "metadata": {
        "id": "view-in-github",
        "colab_type": "text"
      },
      "source": [
        "<a href=\"https://colab.research.google.com/github/VU21CSEN0100182/PYTHON/blob/main/strings.ipynb\" target=\"_parent\"><img src=\"https://colab.research.google.com/assets/colab-badge.svg\" alt=\"Open In Colab\"/></a>"
      ]
    },
    {
      "cell_type": "markdown",
      "source": [
        "upper case"
      ],
      "metadata": {
        "id": "DPbWjykNY6UA"
      }
    },
    {
      "cell_type": "code",
      "execution_count": 27,
      "metadata": {
        "colab": {
          "base_uri": "https://localhost:8080/"
        },
        "id": "ctdpZn_cXmF-",
        "outputId": "8bac9f4c-0b52-4d0a-f2d5-4490052acd75"
      },
      "outputs": [
        {
          "output_type": "stream",
          "name": "stdout",
          "text": [
            "RRR IS RELEASED ON FRIDAY\n"
          ]
        }
      ],
      "source": [
        "a=\"RRR is released on friday\"\n",
        "print(a.upper())"
      ]
    },
    {
      "cell_type": "markdown",
      "source": [
        "lower case"
      ],
      "metadata": {
        "id": "-3qXY_L9ZC-P"
      }
    },
    {
      "cell_type": "code",
      "source": [
        "a=\"RRR is released on friday\"\n",
        "print(a.lower())"
      ],
      "metadata": {
        "colab": {
          "base_uri": "https://localhost:8080/"
        },
        "id": "A2HG6ASoY5NS",
        "outputId": "beccc7b3-7bda-456f-acea-0aba96092b18"
      },
      "execution_count": 3,
      "outputs": [
        {
          "output_type": "stream",
          "name": "stdout",
          "text": [
            "rrr is released on friday\n"
          ]
        }
      ]
    },
    {
      "cell_type": "markdown",
      "source": [
        "REMOVE white space"
      ],
      "metadata": {
        "id": "Sg16y4psaRFY"
      }
    },
    {
      "cell_type": "code",
      "source": [
        "a =\"   RRR is released on friday   \"\n",
        "print(a.strip())"
      ],
      "metadata": {
        "colab": {
          "base_uri": "https://localhost:8080/"
        },
        "id": "1PIBAKrXZFNp",
        "outputId": "9a86c7ce-1500-46b1-b8d2-034f8bdf9290"
      },
      "execution_count": 7,
      "outputs": [
        {
          "output_type": "stream",
          "name": "stdout",
          "text": [
            "RRR is released on friday\n"
          ]
        }
      ]
    },
    {
      "cell_type": "markdown",
      "source": [
        "replace string"
      ],
      "metadata": {
        "id": "XyA_RFmMaTlI"
      }
    },
    {
      "cell_type": "code",
      "source": [
        "a=\"RRR is released on friday\"\n",
        "print(a.replace(\"o\" , \"i\"))"
      ],
      "metadata": {
        "colab": {
          "base_uri": "https://localhost:8080/"
        },
        "id": "pfIc-CleZx4x",
        "outputId": "dee42d26-cb5a-4f93-881a-966ed2c80001"
      },
      "execution_count": 12,
      "outputs": [
        {
          "output_type": "stream",
          "name": "stdout",
          "text": [
            "RRR is released in friday\n"
          ]
        }
      ]
    },
    {
      "cell_type": "markdown",
      "source": [
        "split string"
      ],
      "metadata": {
        "id": "ibXt2t-IbKUg"
      }
    },
    {
      "cell_type": "code",
      "source": [
        "a=\"RRR is released on friday\"\n",
        "print(a.split()) "
      ],
      "metadata": {
        "colab": {
          "base_uri": "https://localhost:8080/"
        },
        "id": "ILgLRngtadGf",
        "outputId": "fe3f5fa6-0d1d-4a2a-a283-5623057255c4"
      },
      "execution_count": 17,
      "outputs": [
        {
          "output_type": "stream",
          "name": "stdout",
          "text": [
            "['RRR', 'is', 'released', 'on', 'friday']\n"
          ]
        }
      ]
    },
    {
      "cell_type": "code",
      "source": [
        "a=\"RRR is released on friday\"\n",
        "print(a.split(\"a\")) "
      ],
      "metadata": {
        "colab": {
          "base_uri": "https://localhost:8080/"
        },
        "id": "-3tizrXMbP3B",
        "outputId": "941b693d-0f03-4b8b-ba9d-a5f59e72b67e"
      },
      "execution_count": 20,
      "outputs": [
        {
          "output_type": "stream",
          "name": "stdout",
          "text": [
            "['RRR is rele', 'sed on frid', 'y']\n"
          ]
        }
      ]
    },
    {
      "cell_type": "code",
      "source": [
        "a=\"RRR is released on friday\"\n",
        "print(a.split(\",\"))"
      ],
      "metadata": {
        "colab": {
          "base_uri": "https://localhost:8080/"
        },
        "id": "AJNokb8udIiJ",
        "outputId": "98c7208d-2ead-49ec-9b76-aa607691448b"
      },
      "execution_count": 26,
      "outputs": [
        {
          "output_type": "stream",
          "name": "stdout",
          "text": [
            "['RRR is released on friday']\n"
          ]
        }
      ]
    },
    {
      "cell_type": "code",
      "source": [
        "a=\"orange,mango,banana\"\n",
        "print(a.split())"
      ],
      "metadata": {
        "colab": {
          "base_uri": "https://localhost:8080/"
        },
        "id": "87CdpC3Ubybo",
        "outputId": "ea2c9467-f358-41d3-87f5-ad8810ee0b68"
      },
      "execution_count": 24,
      "outputs": [
        {
          "output_type": "stream",
          "name": "stdout",
          "text": [
            "['orange,mango,banana']\n"
          ]
        }
      ]
    },
    {
      "cell_type": "code",
      "source": [
        "a=\"orange,mango,banana\"\n",
        "print(a.split(','))"
      ],
      "metadata": {
        "colab": {
          "base_uri": "https://localhost:8080/"
        },
        "id": "qACqtR2seETp",
        "outputId": "359f575b-9e5f-48f4-a85c-04b3617c50a3"
      },
      "execution_count": 25,
      "outputs": [
        {
          "output_type": "stream",
          "name": "stdout",
          "text": [
            "['orange', 'mango', 'banana']\n"
          ]
        }
      ]
    },
    {
      "cell_type": "markdown",
      "source": [
        "String Concatenation"
      ],
      "metadata": {
        "id": "mX95RoITeajH"
      }
    },
    {
      "cell_type": "code",
      "source": [
        "a = \"6\"\n",
        "b = \" 4\"\n",
        "c = a + b\n",
        "print(c)"
      ],
      "metadata": {
        "colab": {
          "base_uri": "https://localhost:8080/"
        },
        "id": "LIks2uT0eNmT",
        "outputId": "7343de58-3731-4253-8b04-9c0d9179bce7"
      },
      "execution_count": 31,
      "outputs": [
        {
          "output_type": "stream",
          "name": "stdout",
          "text": [
            "6 4\n"
          ]
        }
      ]
    },
    {
      "cell_type": "code",
      "source": [
        "a = \"6\"\n",
        "b = \"    4\"\n",
        "c = a + b\n",
        "print(c)"
      ],
      "metadata": {
        "colab": {
          "base_uri": "https://localhost:8080/"
        },
        "id": "mfwDu3PNjnXa",
        "outputId": "397311d7-a77f-4fcb-92dc-88b351fdb199"
      },
      "execution_count": 36,
      "outputs": [
        {
          "output_type": "stream",
          "name": "stdout",
          "text": [
            "6    4\n"
          ]
        }
      ]
    },
    {
      "cell_type": "code",
      "source": [
        "a = \"6\"\n",
        "b = \"4\"\n",
        "c = a + b\n",
        "print(c)"
      ],
      "metadata": {
        "colab": {
          "base_uri": "https://localhost:8080/"
        },
        "id": "cBHuSMhFfC9J",
        "outputId": "993463f4-56cd-49cd-d17f-d77605dc09a5"
      },
      "execution_count": 32,
      "outputs": [
        {
          "output_type": "stream",
          "name": "stdout",
          "text": [
            "64\n"
          ]
        }
      ]
    },
    {
      "cell_type": "code",
      "source": [
        "a = \"HI\"\n",
        "b = \"HELLO\"\n",
        "c = a + \" \" + b\n",
        "print(c)"
      ],
      "metadata": {
        "colab": {
          "base_uri": "https://localhost:8080/"
        },
        "id": "v5K8ZlahfGgh",
        "outputId": "1c5bfaa6-8fc1-4043-b14e-6153188f3db3"
      },
      "execution_count": 35,
      "outputs": [
        {
          "output_type": "stream",
          "name": "stdout",
          "text": [
            "HI HELLO\n"
          ]
        }
      ]
    },
    {
      "cell_type": "markdown",
      "source": [
        "format strings"
      ],
      "metadata": {
        "id": "tuzufldejux2"
      }
    },
    {
      "cell_type": "code",
      "source": [
        "quantity=5\n",
        "itemno=394\n",
        "price=758.9\n",
        "myorder=\"I want {} pices of item {} for {} rupees.\"\n",
        "print(myorder.format(quantity,itemno,price))"
      ],
      "metadata": {
        "colab": {
          "base_uri": "https://localhost:8080/"
        },
        "id": "5sY3-XMzjrHR",
        "outputId": "71e19eb8-1353-495e-c271-f7e161e034ef"
      },
      "execution_count": 40,
      "outputs": [
        {
          "output_type": "stream",
          "name": "stdout",
          "text": [
            "I want 5 pices of item 394 for 758.9 rupees.\n"
          ]
        }
      ]
    },
    {
      "cell_type": "code",
      "source": [
        "price=599\n",
        "quantity=1\n",
        "name=\"pizza\"\n",
        "myorder=\"I want to buy {1} {2} of rupees {0} \"\n",
        "print(myorder.format(price,quantity,name))"
      ],
      "metadata": {
        "colab": {
          "base_uri": "https://localhost:8080/"
        },
        "id": "QvEt_EEblAKQ",
        "outputId": "9bd50714-361c-4f3f-cf53-d4227f58d77b"
      },
      "execution_count": 45,
      "outputs": [
        {
          "output_type": "stream",
          "name": "stdout",
          "text": [
            "I want to buy 1 pizza of rupees 599 \n"
          ]
        }
      ]
    },
    {
      "cell_type": "code",
      "source": [
        "sub1=int(input(\"Enter the marks\"))\n",
        "sub2=int(input(\"Enter the marks\"))\n",
        "sub3=int(input(\"Enter the marks\"))\n",
        "sub4=int(input(\"Enter the marks\"))\n",
        "sub5=int(input(\"Enter the marks\"))\n",
        "marks=\"my maths marks are {0} , my social marks are {1} , my english marks are {2} , my telugu marks are {3} , my science marks are {4}\"\n",
        "print(marks.format(sub1,sub2,sub3,sub4,sub5))"
      ],
      "metadata": {
        "colab": {
          "base_uri": "https://localhost:8080/"
        },
        "id": "iRr00Erlltp4",
        "outputId": "208e6121-4bfb-4fe3-a533-fa74361dbb2a"
      },
      "execution_count": 51,
      "outputs": [
        {
          "output_type": "stream",
          "name": "stdout",
          "text": [
            "Enter the marks9\n",
            "Enter the marks6\n",
            "Enter the marks7\n",
            "Enter the marks9\n",
            "Enter the marks7\n",
            "my maths marks are 9 , my social marks are 6 , my english marks are 7 , my telugu marks are 9 , my science marks are 7\n"
          ]
        }
      ]
    },
    {
      "cell_type": "code",
      "source": [
        "sub1=int(input(\"Enter the marks\"))\n",
        "sub2=int(input(\"Enter the marks\"))\n",
        "sub3=int(input(\"Enter the marks\"))\n",
        "sub4=int(input(\"Enter the marks\"))\n",
        "marks=\"my maths marks are {0} , my social marks are {1} , my english marks are {2} , my telugu marks are {3}\"\n",
        "print(marks.format(sub1,sub2,sub3,sub4))"
      ],
      "metadata": {
        "colab": {
          "base_uri": "https://localhost:8080/"
        },
        "id": "u1f5aKbInWjI",
        "outputId": "1b08dc44-4392-4fec-943d-e732a3aad428"
      },
      "execution_count": 54,
      "outputs": [
        {
          "output_type": "stream",
          "name": "stdout",
          "text": [
            "Enter the marks99\n",
            "Enter the marks86\n",
            "Enter the marks75\n",
            "Enter the marks87\n",
            "my maths marks are 99 , my social marks are 86 , my english marks are 75 , my telugu marks are 87\n"
          ]
        }
      ]
    },
    {
      "cell_type": "markdown",
      "source": [
        "Escape Characters"
      ],
      "metadata": {
        "id": "5h0GjJpno8Hq"
      }
    },
    {
      "cell_type": "markdown",
      "source": [
        "\tSingle Quote\n",
        "  "
      ],
      "metadata": {
        "id": "wkY5_Ta1pJgX"
      }
    },
    {
      "cell_type": "code",
      "source": [
        "name = 'This is\\' srihitha.'\n",
        "print(name) "
      ],
      "metadata": {
        "colab": {
          "base_uri": "https://localhost:8080/"
        },
        "id": "wIKxZ4R9nf7x",
        "outputId": "166bc479-c78c-4af5-cf15-ee003125bc6e"
      },
      "execution_count": 62,
      "outputs": [
        {
          "output_type": "stream",
          "name": "stdout",
          "text": [
            "This is' srihitha.\n"
          ]
        }
      ]
    },
    {
      "cell_type": "code",
      "source": [
        "a= 'It\\'s alright.'\n",
        "print(a) "
      ],
      "metadata": {
        "colab": {
          "base_uri": "https://localhost:8080/"
        },
        "id": "c-wRE9Pho_bw",
        "outputId": "075b74ba-2457-461b-fc15-f019aa7cd245"
      },
      "execution_count": 63,
      "outputs": [
        {
          "output_type": "stream",
          "name": "stdout",
          "text": [
            "It's alright.\n"
          ]
        }
      ]
    },
    {
      "cell_type": "markdown",
      "source": [
        "new line"
      ],
      "metadata": {
        "id": "DtgIwyS0pdOw"
      }
    },
    {
      "cell_type": "code",
      "source": [
        "a=\"HELLO\\nWORLD\"\n",
        "print(a)"
      ],
      "metadata": {
        "colab": {
          "base_uri": "https://localhost:8080/"
        },
        "id": "thowYNxOpLhH",
        "outputId": "ee390027-107f-481f-f167-228da06fb900"
      },
      "execution_count": 64,
      "outputs": [
        {
          "output_type": "stream",
          "name": "stdout",
          "text": [
            "HELLO\n",
            "WORLD\n"
          ]
        }
      ]
    },
    {
      "cell_type": "code",
      "source": [
        "a=\"HI\\nHELLO\\nTHIS IS SRIHITHA\"\n",
        "print(a)"
      ],
      "metadata": {
        "colab": {
          "base_uri": "https://localhost:8080/"
        },
        "id": "ZXlPPKn0pfLY",
        "outputId": "f5e32de6-364c-4621-afdf-2c20f7475185"
      },
      "execution_count": 65,
      "outputs": [
        {
          "output_type": "stream",
          "name": "stdout",
          "text": [
            "HI\n",
            "HELLO\n",
            "THIS IS SRIHITHA\n"
          ]
        }
      ]
    },
    {
      "cell_type": "markdown",
      "source": [
        "BACK SPACE"
      ],
      "metadata": {
        "id": "XYYv5kkipz1q"
      }
    },
    {
      "cell_type": "code",
      "source": [
        "a=\"HELLO\\bWORLD\"\n",
        "print(a)"
      ],
      "metadata": {
        "colab": {
          "base_uri": "https://localhost:8080/"
        },
        "id": "F7NzOVB3pqEg",
        "outputId": "4ff07853-4f67-4d7a-e22b-7340332c22c5"
      },
      "execution_count": 66,
      "outputs": [
        {
          "output_type": "stream",
          "name": "stdout",
          "text": [
            "HELLO\bWORLD\n"
          ]
        }
      ]
    },
    {
      "cell_type": "code",
      "source": [
        "a=\"HI\\bHELLO\\nTHIS IS SRIHITHA\"\n",
        "print(a)"
      ],
      "metadata": {
        "colab": {
          "base_uri": "https://localhost:8080/"
        },
        "id": "nTbWsqU8p14A",
        "outputId": "c95e9841-4010-4ca2-8641-e0dd7ec612e6"
      },
      "execution_count": 67,
      "outputs": [
        {
          "output_type": "stream",
          "name": "stdout",
          "text": [
            "HI\bHELLO\n",
            "THIS IS SRIHITHA\n"
          ]
        }
      ]
    },
    {
      "cell_type": "code",
      "source": [
        "a=\"HELLO \\bWORLD\"\n",
        "print(a)"
      ],
      "metadata": {
        "colab": {
          "base_uri": "https://localhost:8080/"
        },
        "id": "P6lOA0JnqDCF",
        "outputId": "c272f17c-dbe8-48f1-95b4-ffad36a923fa"
      },
      "execution_count": 68,
      "outputs": [
        {
          "output_type": "stream",
          "name": "stdout",
          "text": [
            "HELLO \bWORLD\n"
          ]
        }
      ]
    },
    {
      "cell_type": "markdown",
      "source": [
        "\tBackslash"
      ],
      "metadata": {
        "id": "KXrZmivRq_uf"
      }
    },
    {
      "cell_type": "code",
      "source": [
        "name = \"This is srihitha \\\\.\"\n",
        "print(name) "
      ],
      "metadata": {
        "colab": {
          "base_uri": "https://localhost:8080/"
        },
        "id": "LbF8a4_QqnVQ",
        "outputId": "a837b743-cb5b-4c31-da4e-85910d3702af"
      },
      "execution_count": 71,
      "outputs": [
        {
          "output_type": "stream",
          "name": "stdout",
          "text": [
            "This is srihitha \\.\n"
          ]
        }
      ]
    },
    {
      "cell_type": "markdown",
      "source": [
        "capitalize"
      ],
      "metadata": {
        "id": "lXFeSJ_gsUi4"
      }
    },
    {
      "cell_type": "code",
      "source": [
        "a=\"srihitha\"\n",
        "b=a.capitalize()\n",
        "print(b)"
      ],
      "metadata": {
        "colab": {
          "base_uri": "https://localhost:8080/"
        },
        "id": "EV5QfoUtq2wh",
        "outputId": "8ac51ce1-ca45-487f-a70e-fc1c23827f59"
      },
      "execution_count": 73,
      "outputs": [
        {
          "output_type": "stream",
          "name": "stdout",
          "text": [
            "Srihitha\n"
          ]
        }
      ]
    },
    {
      "cell_type": "markdown",
      "source": [
        "casefold"
      ],
      "metadata": {
        "id": "Gwhclaq1sWxI"
      }
    },
    {
      "cell_type": "code",
      "source": [
        "a=\"SRIHITHA\"\n",
        "b=a.casefold()\n",
        "print(b)"
      ],
      "metadata": {
        "colab": {
          "base_uri": "https://localhost:8080/"
        },
        "id": "_N_gu1rerf_n",
        "outputId": "ed7bd9b2-79c2-4320-8bc0-87edbd3156d0"
      },
      "execution_count": 77,
      "outputs": [
        {
          "output_type": "stream",
          "name": "stdout",
          "text": [
            "srihitha\n"
          ]
        }
      ]
    },
    {
      "cell_type": "markdown",
      "source": [
        "center"
      ],
      "metadata": {
        "id": "5O5YhSkZsY36"
      }
    },
    {
      "cell_type": "code",
      "source": [
        "a=\"srihitha\"\n",
        "b=a.center(20)\n",
        "print(b)"
      ],
      "metadata": {
        "colab": {
          "base_uri": "https://localhost:8080/"
        },
        "id": "rY8ZW91prtkI",
        "outputId": "2ddf2f60-da2c-4f1e-969a-8b0b7942d8de"
      },
      "execution_count": 75,
      "outputs": [
        {
          "output_type": "stream",
          "name": "stdout",
          "text": [
            "      srihitha      \n"
          ]
        }
      ]
    },
    {
      "cell_type": "code",
      "source": [
        "a=\"SRIHITHA\"\n",
        "b=a.center(234)\n",
        "print(b)"
      ],
      "metadata": {
        "colab": {
          "base_uri": "https://localhost:8080/"
        },
        "id": "aU8n_kl4sBco",
        "outputId": "39880eb5-f229-47f3-c1f4-266aa092a4fe"
      },
      "execution_count": 78,
      "outputs": [
        {
          "output_type": "stream",
          "name": "stdout",
          "text": [
            "                                                                                                                 SRIHITHA                                                                                                                 \n"
          ]
        }
      ]
    },
    {
      "cell_type": "markdown",
      "source": [
        "count"
      ],
      "metadata": {
        "id": "mosgIX9Cs6Je"
      }
    },
    {
      "cell_type": "code",
      "source": [
        "a=\"Hello world welcome to my world\"\n",
        "b=a.count(\"\")\n",
        "print(b)"
      ],
      "metadata": {
        "colab": {
          "base_uri": "https://localhost:8080/"
        },
        "id": "FzM_Z2K8seKA",
        "outputId": "842ff7d0-ae39-4b76-e9cf-94b3c5cc314d"
      },
      "execution_count": 81,
      "outputs": [
        {
          "output_type": "stream",
          "name": "stdout",
          "text": [
            "32\n"
          ]
        }
      ]
    },
    {
      "cell_type": "code",
      "source": [
        "a=\"Hello world welcome to my world\"\n",
        "b=a.count(\"world\")\n",
        "print(b)"
      ],
      "metadata": {
        "colab": {
          "base_uri": "https://localhost:8080/"
        },
        "id": "74bqqO0Zs5Tw",
        "outputId": "b7febbea-0002-49b6-cac2-722f79fc5078"
      },
      "execution_count": 83,
      "outputs": [
        {
          "output_type": "stream",
          "name": "stdout",
          "text": [
            "2\n"
          ]
        }
      ]
    }
  ]
}