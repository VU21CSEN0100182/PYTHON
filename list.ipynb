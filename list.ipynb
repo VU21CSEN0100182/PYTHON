{
  "nbformat": 4,
  "nbformat_minor": 0,
  "metadata": {
    "colab": {
      "name": "list",
      "provenance": [],
      "authorship_tag": "ABX9TyMNwK1iQaAPCDpNx53HGb18",
      "include_colab_link": true
    },
    "kernelspec": {
      "name": "python3",
      "display_name": "Python 3"
    },
    "language_info": {
      "name": "python"
    }
  },
  "cells": [
    {
      "cell_type": "markdown",
      "metadata": {
        "id": "view-in-github",
        "colab_type": "text"
      },
      "source": [
        "<a href=\"https://colab.research.google.com/github/VU21CSEN0100182/PYTHON/blob/main/list.ipynb\" target=\"_parent\"><img src=\"https://colab.research.google.com/assets/colab-badge.svg\" alt=\"Open In Colab\"/></a>"
      ]
    },
    {
      "cell_type": "code",
      "source": [
        "fruit=[\"apple\",\"orange\",\"mango\",\"banana\",\"watermalon\"]\n",
        "print(fruit)\n",
        "print(fruit[0:5])\n",
        "print(fruit[0:2])\n",
        "print(fruit[:4])\n",
        "print(fruit[1:])\n",
        "print(fruit[1:1])"
      ],
      "metadata": {
        "id": "4kDu7OCYYhnS",
        "colab": {
          "base_uri": "https://localhost:8080/"
        },
        "outputId": "ddd21ba9-36c4-4edc-9fef-082afcbb379a"
      },
      "execution_count": null,
      "outputs": [
        {
          "output_type": "stream",
          "name": "stdout",
          "text": [
            "['apple', 'orange', 'mango', 'banana', 'watermalon']\n",
            "['apple', 'orange', 'mango', 'banana', 'watermalon']\n",
            "['apple', 'orange']\n",
            "['apple', 'orange', 'mango', 'banana']\n",
            "['orange', 'mango', 'banana', 'watermalon']\n",
            "[]\n"
          ]
        }
      ]
    },
    {
      "cell_type": "code",
      "source": [
        "fruit=[\"kiwi\",\"strawberry\",\"rasberry\",\"cherry\"]\n",
        "print(fruit)\n",
        "fruit.append(\"blackberry\")\n",
        "print(fruit)\n",
        "fruit.insert(2,\"lichy\")\n",
        "print(fruit)\n",
        "fruit.remove(\"rasberry\")\n",
        "print(fruit)\n",
        "fruit.pop(1)\n",
        "print(fruit)\n",
        "fruit.clear()\n",
        "print(fruit)\n",
        "print(type(fruit))\n",
        "num=[1,5,2,4]\n",
        "num.sort()\n",
        "print(num)\n",
        "alpha=['a','o','u','e','i']\n",
        "alpha.sort()\n",
        "print(alpha)\n",
        "Alpha=['A','O','E','U','I']\n",
        "Alpha.sort()\n",
        "print(Alpha)\n",
        "Alpha=['A','O','E','U','I']\n",
        "Alpha.reverse()\n",
        "print(Alpha)"
      ],
      "metadata": {
        "colab": {
          "base_uri": "https://localhost:8080/"
        },
        "id": "SID1UgUcawCI",
        "outputId": "e587c032-75b2-4507-997b-70f3656095e8"
      },
      "execution_count": 54,
      "outputs": [
        {
          "output_type": "stream",
          "name": "stdout",
          "text": [
            "['kiwi', 'strawberry', 'rasberry', 'cherry']\n",
            "['kiwi', 'strawberry', 'rasberry', 'cherry', 'blackberry']\n",
            "['kiwi', 'strawberry', 'lichy', 'rasberry', 'cherry', 'blackberry']\n",
            "['kiwi', 'strawberry', 'lichy', 'cherry', 'blackberry']\n",
            "['kiwi', 'lichy', 'cherry', 'blackberry']\n",
            "[]\n",
            "<class 'list'>\n",
            "[1, 2, 4, 5]\n",
            "['a', 'e', 'i', 'o', 'u']\n",
            "['A', 'E', 'I', 'O', 'U']\n",
            "['I', 'U', 'E', 'O', 'A']\n"
          ]
        }
      ]
    }
  ]
}