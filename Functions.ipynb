{
  "nbformat": 4,
  "nbformat_minor": 0,
  "metadata": {
    "colab": {
      "name": "Functions",
      "provenance": [],
      "collapsed_sections": [],
      "authorship_tag": "ABX9TyNLkcY5eKIuV+BZhR7RNm5V",
      "include_colab_link": true
    },
    "kernelspec": {
      "name": "python3",
      "display_name": "Python 3"
    },
    "language_info": {
      "name": "python"
    }
  },
  "cells": [
    {
      "cell_type": "markdown",
      "metadata": {
        "id": "view-in-github",
        "colab_type": "text"
      },
      "source": [
        "<a href=\"https://colab.research.google.com/github/VU21CSEN0100182/PYTHON/blob/main/Functions.ipynb\" target=\"_parent\"><img src=\"https://colab.research.google.com/assets/colab-badge.svg\" alt=\"Open In Colab\"/></a>"
      ]
    },
    {
      "cell_type": "code",
      "execution_count": null,
      "metadata": {
        "id": "XegyvTwQMNSh",
        "colab": {
          "base_uri": "https://localhost:8080/"
        },
        "outputId": "68774b5d-d92d-472f-c7e4-72941eefd3fa"
      },
      "outputs": [
        {
          "output_type": "stream",
          "name": "stdout",
          "text": [
            " Hello world\n"
          ]
        }
      ],
      "source": [
        "def srihitha_function():\n",
        "  print(\" Hello world\")\n",
        "srihitha_function()"
      ]
    },
    {
      "cell_type": "code",
      "source": [
        "def che_function(types):\n",
        "  print(types+\"chemicals\")\n",
        "che_function(\"sodium\")\n",
        "che_function(\"nitrogen\")\n",
        "che_function(\"lithium\")"
      ],
      "metadata": {
        "colab": {
          "base_uri": "https://localhost:8080/"
        },
        "id": "SIs_57kSVwHr",
        "outputId": "9e45f664-7c6b-48b0-b5dc-4feb2f39d307"
      },
      "execution_count": null,
      "outputs": [
        {
          "output_type": "stream",
          "name": "stdout",
          "text": [
            "sodiumchemicals\n",
            "nitrogenchemicals\n",
            "lithiumchemicals\n"
          ]
        }
      ]
    },
    {
      "cell_type": "code",
      "source": [
        "def food_function(type,dishes):\n",
        "  print(type+\" curry\"+dishes+\" rice\")\n",
        "food_function(\"chicken\",\" curd\")\n",
        "food_function(\"mutton\",\" prawns\")\n",
        "food_function(\"crab\",\" fish\")"
      ],
      "metadata": {
        "colab": {
          "base_uri": "https://localhost:8080/"
        },
        "id": "ege5dt84aJRV",
        "outputId": "b6b07c33-538d-4f33-925e-b0298af6bf8b"
      },
      "execution_count": null,
      "outputs": [
        {
          "output_type": "stream",
          "name": "stdout",
          "text": [
            "chicken curry curd rice\n",
            "mutton curry prawns rice\n",
            "crab curry fish rice\n"
          ]
        }
      ]
    },
    {
      "cell_type": "code",
      "source": [
        "def food_function(*varieties):\n",
        "  print(\"My favorite dish is \" + varieties[2])\n",
        "food_function(\"chicken\", \"paneer\", \"butter non\", \"muttion\")\n",
        "def color_function(*varieties):\n",
        "  print(\"My favorite color is \" + varieties+[1])\n",
        "color_function(\"pink\", \"blue\", \"green\", \"vilote\")"
      ],
      "metadata": {
        "colab": {
          "base_uri": "https://localhost:8080/"
        },
        "id": "UbnTp0JqdQyl",
        "outputId": "fc9041b1-e464-4d57-c4ce-3a704b68ac3e"
      },
      "execution_count": 3,
      "outputs": [
        {
          "output_type": "stream",
          "name": "stdout",
          "text": [
            "My favorite dish is butter non\n",
            "My favorite color is blue\n"
          ]
        }
      ]
    },
    {
      "cell_type": "code",
      "source": [
        "def vote_function(name,age,gender):\n",
        "  print(\"name:\"+\"\"+name)\n",
        "  print(\"age:\"+\"\"+age)\n",
        "  print(\"gender\"+\"\"+gender)\n",
        "vote_function(\"shree\",\"18\",\"female\")"
      ],
      "metadata": {
        "colab": {
          "base_uri": "https://localhost:8080/"
        },
        "id": "L30ItCW1fAHk",
        "outputId": "327bbe4b-34fc-45b6-c05b-8641c177d1ce"
      },
      "execution_count": null,
      "outputs": [
        {
          "output_type": "stream",
          "name": "stdout",
          "text": [
            "name:shree\n",
            "age:18\n",
            "genderfemale\n"
          ]
        }
      ]
    },
    {
      "cell_type": "code",
      "source": [
        "#key arguments\n",
        "def food_function(dish3, dish2, dish1):\n",
        "  print(\"The favorite dish is \" + dish2)\n",
        "food_function(dish1 = \"chicken\", dish2 = \"mutton\", dish3 = \"prawns\")"
      ],
      "metadata": {
        "id": "SsyGvgYLi6uL",
        "colab": {
          "base_uri": "https://localhost:8080/"
        },
        "outputId": "c5a52053-52ce-4394-8a0e-8156f5f8118b"
      },
      "execution_count": 7,
      "outputs": [
        {
          "output_type": "stream",
          "name": "stdout",
          "text": [
            "The favorite dish is mutton\n"
          ]
        }
      ]
    },
    {
      "cell_type": "code",
      "source": [
        "def jewellery_function(jewel3, jewel2, jewel1):\n",
        "  print(\"The favorite jewel is \" + jewel2)\n",
        "jewellery_function(jewel1 = \"daimond\", jewel2 = \"gold\", jewel3 = \"platinum\")"
      ],
      "metadata": {
        "colab": {
          "base_uri": "https://localhost:8080/"
        },
        "id": "KwxMXhSlkMfT",
        "outputId": "f4590ca3-ac34-42bc-ea37-952ab903228a"
      },
      "execution_count": 9,
      "outputs": [
        {
          "output_type": "stream",
          "name": "stdout",
          "text": [
            "The favorite jewel is gold\n"
          ]
        }
      ]
    },
    {
      "cell_type": "code",
      "source": [
        "def ):\n",
        " print(\"His last name is \" + kid[\"lname\"])\n",
        "(fname = \"Tobias\", lname = \"Refsnes\")"
      ],
      "metadata": {
        "id": "K7PvM9sxlgcK"
      },
      "execution_count": null,
      "outputs": []
    },
    {
      "cell_type": "code",
      "source": [
        "def chemical_function(**type):\n",
        " print(\"His last name is \" + kid[\"lname\"])\n",
        "my_function(fname = \"Tobias\", lname = \"Refsnes\")"
      ],
      "metadata": {
        "id": "BLU1rxZnq-X-"
      },
      "execution_count": null,
      "outputs": []
    }
  ]
}