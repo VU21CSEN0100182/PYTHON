{
  "nbformat": 4,
  "nbformat_minor": 0,
  "metadata": {
    "colab": {
      "name": "sets",
      "provenance": [],
      "collapsed_sections": [],
      "authorship_tag": "ABX9TyPIksC9HLGR0q/S3rFqA7eF",
      "include_colab_link": true
    },
    "kernelspec": {
      "name": "python3",
      "display_name": "Python 3"
    },
    "language_info": {
      "name": "python"
    }
  },
  "cells": [
    {
      "cell_type": "markdown",
      "metadata": {
        "id": "view-in-github",
        "colab_type": "text"
      },
      "source": [
        "<a href=\"https://colab.research.google.com/github/VU21CSEN0100182/PYTHON/blob/main/sets.ipynb\" target=\"_parent\"><img src=\"https://colab.research.google.com/assets/colab-badge.svg\" alt=\"Open In Colab\"/></a>"
      ]
    },
    {
      "cell_type": "markdown",
      "source": [
        "#Python Sets"
      ],
      "metadata": {
        "id": "LZrrBgjMNFGv"
      }
    },
    {
      "cell_type": "code",
      "execution_count": 1,
      "metadata": {
        "id": "kY79Ui__K85g",
        "colab": {
          "base_uri": "https://localhost:8080/"
        },
        "outputId": "e55aa122-9c81-4928-ebcf-02400c276d63"
      },
      "outputs": [
        {
          "output_type": "stream",
          "name": "stdout",
          "text": [
            "{'cat', 'dog', 'ball', 'apple'}\n"
          ]
        }
      ],
      "source": [
        "#set\n",
        "set={\"apple\",\"ball\",\"cat\",\"dog\"}\n",
        "print(set)"
      ]
    },
    {
      "cell_type": "code",
      "source": [
        "#Duplicates\n",
        "set={\"electron\",\"proton\",\"calicium\",\"nutron\",\"electron\"}\n",
        "print(set)"
      ],
      "metadata": {
        "colab": {
          "base_uri": "https://localhost:8080/"
        },
        "id": "nkd6aWQ4Nqc-",
        "outputId": "35b2cbd9-21d6-4b9d-fd30-18511a9bcb2b"
      },
      "execution_count": 3,
      "outputs": [
        {
          "output_type": "stream",
          "name": "stdout",
          "text": [
            "{'proton', 'electron', 'calicium', 'nutron'}\n"
          ]
        }
      ]
    },
    {
      "cell_type": "code",
      "source": [
        "# Length of a Set\n",
        "set={\"srihitha\",\"harshitha\",\"deepika\",\"vaishnavi\",\"cherishma\",\"pushpitha\"}\n",
        "print(len(set))"
      ],
      "metadata": {
        "colab": {
          "base_uri": "https://localhost:8080/"
        },
        "id": "Ou6CH11XOYNm",
        "outputId": "d32af4a6-3efc-4fc2-b279-60a1d415b37e"
      },
      "execution_count": 4,
      "outputs": [
        {
          "output_type": "stream",
          "name": "stdout",
          "text": [
            "6\n"
          ]
        }
      ]
    },
    {
      "cell_type": "code",
      "source": [
        "set={\"srihitha\",\"harshitha\"\"deepika\"\"vaishnavi\"\"cherishma\"\"pushpitha\"}\n",
        "print(len(set))"
      ],
      "metadata": {
        "colab": {
          "base_uri": "https://localhost:8080/"
        },
        "id": "uaut3CuvO_f-",
        "outputId": "8bbaf6e2-0185-47d4-8ba1-129cc5533b23"
      },
      "execution_count": 7,
      "outputs": [
        {
          "output_type": "stream",
          "name": "stdout",
          "text": [
            "2\n"
          ]
        }
      ]
    },
    {
      "cell_type": "markdown",
      "source": [
        "Set Items"
      ],
      "metadata": {
        "id": "cKabt9x2PfTm"
      }
    },
    {
      "cell_type": "code",
      "source": [
        "#Data Types\n",
        "set1 = {\"srihitha\", \"harshitha\", \"deepika\"}\n",
        "set2 = {2,4,6,8,10,12}\n",
        "set3 = {True, False, False}\n",
        "print(set1)\n",
        "print(set2)\n",
        "print(set3)"
      ],
      "metadata": {
        "colab": {
          "base_uri": "https://localhost:8080/"
        },
        "id": "ITPuK7UXPSFm",
        "outputId": "1704246f-060f-4707-ebfd-891966c4d5b3"
      },
      "execution_count": 11,
      "outputs": [
        {
          "output_type": "stream",
          "name": "stdout",
          "text": [
            "{'harshitha', 'srihitha', 'deepika'}\n",
            "{2, 4, 6, 8, 10, 12}\n",
            "{False, True}\n"
          ]
        }
      ]
    },
    {
      "cell_type": "code",
      "source": [
        "set1 = {\"srihitha\", 182,\"gitam\", \"cse\", \"python\"}\n",
        "print(set1)"
      ],
      "metadata": {
        "colab": {
          "base_uri": "https://localhost:8080/"
        },
        "id": "71-kQWA1P0D2",
        "outputId": "1dbf207d-7a9d-4198-867d-a3b98a4cee0c"
      },
      "execution_count": 14,
      "outputs": [
        {
          "output_type": "stream",
          "name": "stdout",
          "text": [
            "{'gitam', 'python', 'cse', 182, 'srihitha'}\n"
          ]
        }
      ]
    },
    {
      "cell_type": "markdown",
      "source": [
        "type"
      ],
      "metadata": {
        "id": "MuiYiemXQmT9"
      }
    },
    {
      "cell_type": "code",
      "source": [
        "set = {\"apple\", \"banana\", \"cherry\"}\n",
        "print(type(set))"
      ],
      "metadata": {
        "colab": {
          "base_uri": "https://localhost:8080/"
        },
        "id": "GjwanK94QS_Z",
        "outputId": "27c3dd73-4af2-451b-b0d2-07e7a766ecf6"
      },
      "execution_count": 15,
      "outputs": [
        {
          "output_type": "stream",
          "name": "stdout",
          "text": [
            "<class 'set'>\n"
          ]
        }
      ]
    },
    {
      "cell_type": "markdown",
      "source": [
        "#Python - Access Set Items"
      ],
      "metadata": {
        "id": "rXk7saAGRhLz"
      }
    },
    {
      "cell_type": "code",
      "source": [
        "#Access Items\n",
        "a={\"hydrogen\",\"helium\",\"nitrogen\"}\n",
        "for x in a:\n",
        "  print(x)"
      ],
      "metadata": {
        "colab": {
          "base_uri": "https://localhost:8080/"
        },
        "id": "tiCWP0PjRmHD",
        "outputId": "03c032ca-f545-4ab3-cc51-5bf01e2ecfbe"
      },
      "execution_count": 23,
      "outputs": [
        {
          "output_type": "stream",
          "name": "stdout",
          "text": [
            "hydrogen\n",
            "helium\n",
            "nitrogen\n"
          ]
        }
      ]
    },
    {
      "cell_type": "code",
      "source": [
        "set={\"electron\",\"proton\",\"calicium\"}\n",
        "print(\"carrot\" in set)\n",
        "print(\"proton\" in set)"
      ],
      "metadata": {
        "colab": {
          "base_uri": "https://localhost:8080/"
        },
        "id": "nfQRj04TTAaF",
        "outputId": "cbab936d-9669-4762-e046-b6369c7dcbca"
      },
      "execution_count": 28,
      "outputs": [
        {
          "output_type": "stream",
          "name": "stdout",
          "text": [
            "False\n",
            "True\n"
          ]
        }
      ]
    },
    {
      "cell_type": "markdown",
      "source": [
        "#Python - Add Set Items\n"
      ],
      "metadata": {
        "id": "ObugFjcvT5lO"
      }
    },
    {
      "cell_type": "code",
      "source": [
        "#Add Items .add()\n",
        "set={\"ice cream\",\"chocolate\",\"chicken\"}\n",
        "set.add(\"fish\")\n",
        "print(set)"
      ],
      "metadata": {
        "colab": {
          "base_uri": "https://localhost:8080/"
        },
        "id": "1HXC5GHaT9kd",
        "outputId": "8fe04895-27a7-4c79-a605-ff6d727df762"
      },
      "execution_count": 29,
      "outputs": [
        {
          "output_type": "stream",
          "name": "stdout",
          "text": [
            "{'chicken', 'fish', 'ice cream', 'chocolate'}\n"
          ]
        }
      ]
    },
    {
      "cell_type": "code",
      "source": [
        "#add sets .update(tropical)\n",
        "set = {\"apple\", \"banana\", \"cherry\"}\n",
        "tropical = {\"pineapple\", \"mango\", \"papaya\"}\n",
        "set.update(tropical)\n",
        "print(set)"
      ],
      "metadata": {
        "colab": {
          "base_uri": "https://localhost:8080/"
        },
        "id": "umGKVrvAUgIG",
        "outputId": "0d014ba0-2977-4b97-f779-4e262be51a58"
      },
      "execution_count": 30,
      "outputs": [
        {
          "output_type": "stream",
          "name": "stdout",
          "text": [
            "{'apple', 'mango', 'papaya', 'pineapple', 'cherry', 'banana'}\n"
          ]
        }
      ]
    },
    {
      "cell_type": "code",
      "source": [
        "#Add Any Iterable \n",
        "a={\"india\",\"africa\",\"australlia\",\"america\"}\n",
        "set=[\"europe\",\"greenland\"]\n",
        "a.update(set)\n",
        "print(a)"
      ],
      "metadata": {
        "colab": {
          "base_uri": "https://localhost:8080/"
        },
        "id": "C3uInpUZU4Rl",
        "outputId": "63f627df-a78d-42bf-e044-430bc567644f"
      },
      "execution_count": 31,
      "outputs": [
        {
          "output_type": "stream",
          "name": "stdout",
          "text": [
            "{'australlia', 'europe', 'greenland', 'africa', 'india', 'america'}\n"
          ]
        }
      ]
    },
    {
      "cell_type": "markdown",
      "source": [
        "#Python - Remove Set Items\n"
      ],
      "metadata": {
        "id": "VxHug7sdVml2"
      }
    },
    {
      "cell_type": "code",
      "source": [
        "#Remove Item  remove()\n",
        "a={\"andhra pradesh\",\"tamil nadu\",\"karnataka\",\"west bengal\"}\n",
        "a.remove(\"west bengal\")\n",
        "print(a)"
      ],
      "metadata": {
        "colab": {
          "base_uri": "https://localhost:8080/"
        },
        "id": "1l2lCs0DVoCd",
        "outputId": "f2ae974a-73ee-4262-cec9-c367c27d4e9e"
      },
      "execution_count": 33,
      "outputs": [
        {
          "output_type": "stream",
          "name": "stdout",
          "text": [
            "{'karnataka', 'tamil nadu', 'andhra pradesh'}\n"
          ]
        }
      ]
    },
    {
      "cell_type": "code",
      "source": [
        "#discard()\n",
        "a={\"andhra pradesh\",\"tamil nadu\",\"karnataka\",\"west bengal\"}\n",
        "a.remove(\"karnataka\")\n",
        "print(a)"
      ],
      "metadata": {
        "colab": {
          "base_uri": "https://localhost:8080/"
        },
        "id": "lAIKcopUWO2m",
        "outputId": "a26bba55-5a5c-4baf-e99c-17ac45b538b5"
      },
      "execution_count": 35,
      "outputs": [
        {
          "output_type": "stream",
          "name": "stdout",
          "text": [
            "{'tamil nadu', 'west bengal', 'andhra pradesh'}\n"
          ]
        }
      ]
    },
    {
      "cell_type": "code",
      "source": [
        "#pop()\n",
        "set={\"asia\",\"india\",\"japan\",\"singapor\"}\n",
        "x=set.pop()\n",
        "print(x)\n",
        "print(set)"
      ],
      "metadata": {
        "colab": {
          "base_uri": "https://localhost:8080/"
        },
        "id": "1-GR3Hg_Wd2p",
        "outputId": "a236eebd-1765-4a04-d028-709e4db99f4b"
      },
      "execution_count": 36,
      "outputs": [
        {
          "output_type": "stream",
          "name": "stdout",
          "text": [
            "japan\n",
            "{'india', 'singapor', 'asia'}\n"
          ]
        }
      ]
    },
    {
      "cell_type": "code",
      "source": [
        "#clear()\n",
        "a={\"blue\",\"pink\",\"vilote\",\"yellow\"}\n",
        "a.clear()\n",
        "print(a)"
      ],
      "metadata": {
        "colab": {
          "base_uri": "https://localhost:8080/"
        },
        "id": "Q4go8GbIXFzV",
        "outputId": "4f6d3b16-0dc5-4922-a264-f2e7c45b1970"
      },
      "execution_count": 38,
      "outputs": [
        {
          "output_type": "stream",
          "name": "stdout",
          "text": [
            "set()\n"
          ]
        }
      ]
    },
    {
      "cell_type": "code",
      "source": [
        "#del\n",
        "set={\"blue\",\"pink\",\"vilote\",\"yellow\"}\n",
        "del set\n",
        "print(set)"
      ],
      "metadata": {
        "colab": {
          "base_uri": "https://localhost:8080/"
        },
        "id": "ierfNdXIXj09",
        "outputId": "b0614ea7-708e-40ac-f664-cc0c32de6851"
      },
      "execution_count": 40,
      "outputs": [
        {
          "output_type": "stream",
          "name": "stdout",
          "text": [
            "<class 'set'>\n"
          ]
        }
      ]
    },
    {
      "cell_type": "markdown",
      "source": [
        "#Python - Loop Sets"
      ],
      "metadata": {
        "id": "5bLagq_wX7f9"
      }
    },
    {
      "cell_type": "code",
      "source": [
        "#Loop Items\n",
        "set = {\"apple\", \"banana\", \"cherry\"}\n",
        "for x in set:\n",
        "  print(x)"
      ],
      "metadata": {
        "colab": {
          "base_uri": "https://localhost:8080/"
        },
        "id": "hzPtJzbXYAXl",
        "outputId": "311f9296-cf2d-4824-c94c-14bed1d451c3"
      },
      "execution_count": 41,
      "outputs": [
        {
          "output_type": "stream",
          "name": "stdout",
          "text": [
            "cherry\n",
            "banana\n",
            "apple\n"
          ]
        }
      ]
    },
    {
      "cell_type": "markdown",
      "source": [
        "#Python - Join Sets"
      ],
      "metadata": {
        "id": "rAb4JxyPYPol"
      }
    },
    {
      "cell_type": "code",
      "source": [
        "#join two sets\n",
        "#union()\n",
        "set1={\"s\",\"r\",\"i\",\"h\",\"i\",\"t\",\"h\",\"a\"}\n",
        "set2={\"1\",\"8\",\"2\"}\n",
        "set3= set1.union(set2)\n",
        "print(set3)"
      ],
      "metadata": {
        "colab": {
          "base_uri": "https://localhost:8080/"
        },
        "id": "xPhvX7hdYNOF",
        "outputId": "49bffe29-8be5-4932-cc50-4c11904182ca"
      },
      "execution_count": 43,
      "outputs": [
        {
          "output_type": "stream",
          "name": "stdout",
          "text": [
            "{'r', 't', '1', '2', 's', 'i', 'h', '8', 'a'}\n"
          ]
        }
      ]
    },
    {
      "cell_type": "code",
      "source": [
        "#update()\n",
        "set1 = {\"a\", \"b\" , \"c\"}\n",
        "set2 = {1, 2, 3}\n",
        "set1.update(set2)\n",
        "print(set1)"
      ],
      "metadata": {
        "colab": {
          "base_uri": "https://localhost:8080/"
        },
        "id": "h2l-fsRqZp8W",
        "outputId": "39cc8780-ba2b-4af0-a696-d8bd1f39b3b3"
      },
      "execution_count": 45,
      "outputs": [
        {
          "output_type": "stream",
          "name": "stdout",
          "text": [
            "{'b', 'c', 1, 2, 3, 'a'}\n"
          ]
        }
      ]
    },
    {
      "cell_type": "code",
      "source": [
        "#ONLY Duplicates\n",
        "#intersection_update()\n",
        "x={\"google\",\"microsoft\",\"crome\"}\n",
        "y={\"crome\",\"fire fox\",\"settings\"}\n",
        "x.intersection_update(y)\n",
        "print(x)"
      ],
      "metadata": {
        "colab": {
          "base_uri": "https://localhost:8080/"
        },
        "id": "Uktrn0qkZ94_",
        "outputId": "2cba5fd2-bfcc-4b20-956d-31eaac7ab12e"
      },
      "execution_count": 46,
      "outputs": [
        {
          "output_type": "stream",
          "name": "stdout",
          "text": [
            "{'crome'}\n"
          ]
        }
      ]
    },
    {
      "cell_type": "code",
      "source": [
        "#intersection()\n",
        "x={\"apple\", \"banana\", \"cherry\"}\n",
        "y={\"google\", \"microsoft\", \"apple\"}\n",
        "z = x.intersection(y)\n",
        "print(z)"
      ],
      "metadata": {
        "colab": {
          "base_uri": "https://localhost:8080/"
        },
        "id": "lorR5OHdawVG",
        "outputId": "c2c143e0-e3d0-43ef-8d54-d27dc7ab55a1"
      },
      "execution_count": 51,
      "outputs": [
        {
          "output_type": "stream",
          "name": "stdout",
          "text": [
            "{'apple'}\n"
          ]
        }
      ]
    },
    {
      "cell_type": "code",
      "source": [
        "#NOT the Duplicates\n",
        "#symmetric_difference()_update()\n",
        "x={\"google\",\"microsoft\",\"crome\"}\n",
        "y={\"crome\",\"fire fox\",\"settings\"}\n",
        "x.symmetric_difference_update(y)\n",
        "print(x)"
      ],
      "metadata": {
        "colab": {
          "base_uri": "https://localhost:8080/"
        },
        "id": "Vx4bPMkkbzgN",
        "outputId": "9e5b6bcc-458e-42fa-e1af-e0a208855fcb"
      },
      "execution_count": 52,
      "outputs": [
        {
          "output_type": "stream",
          "name": "stdout",
          "text": [
            "{'microsoft', 'google', 'settings', 'fire fox'}\n"
          ]
        }
      ]
    },
    {
      "cell_type": "code",
      "source": [
        "#symmetric_difference()\n",
        "x={\"google\",\"microsoft\",\"crome\"}\n",
        "y={\"crome\",\"fire fox\",\"settings\"}\n",
        "z=x.symmetric_difference(y)\n",
        "print(z)"
      ],
      "metadata": {
        "colab": {
          "base_uri": "https://localhost:8080/"
        },
        "id": "O4kYb1ThcAuN",
        "outputId": "527e1701-2b43-4571-9911-65383a06328b"
      },
      "execution_count": 53,
      "outputs": [
        {
          "output_type": "stream",
          "name": "stdout",
          "text": [
            "{'microsoft', 'google', 'settings', 'fire fox'}\n"
          ]
        }
      ]
    },
    {
      "cell_type": "code",
      "source": [
        ""
      ],
      "metadata": {
        "id": "OIaklJCCcghZ"
      },
      "execution_count": null,
      "outputs": []
    }
  ]
}