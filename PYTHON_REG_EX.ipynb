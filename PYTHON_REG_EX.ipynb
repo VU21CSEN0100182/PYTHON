{
  "cells": [
    {
      "cell_type": "markdown",
      "metadata": {
        "id": "view-in-github",
        "colab_type": "text"
      },
      "source": [
        "<a href=\"https://colab.research.google.com/github/VU21CSEN0100182/PYTHON/blob/main/PYTHON_REG_EX.ipynb\" target=\"_parent\"><img src=\"https://colab.research.google.com/assets/colab-badge.svg\" alt=\"Open In Colab\"/></a>"
      ]
    },
    {
      "cell_type": "code",
      "execution_count": null,
      "metadata": {
        "colab": {
          "base_uri": "https://localhost:8080/"
        },
        "id": "EpSTBOgvIwaG",
        "outputId": "c846cdda-59b5-4aac-a8b0-6a5ea793800f"
      },
      "outputs": [
        {
          "name": "stdout",
          "output_type": "stream",
          "text": [
            "\n",
            "NO,permission\n",
            "\n"
          ]
        }
      ],
      "source": [
        "#Search the string to see if it starts with \"I\" and ends with \"MOVIE\":\n",
        "import re \n",
        "txt=\"i want to go for a movie\"\n",
        "x=re.search(\"&a movie\",txt)\n",
        "if x:\n",
        "  print(\"YES,permission to go\\n\")\n",
        "else:\n",
        "    print(\"\\nNO,permission\\n\")"
      ]
    },
    {
      "cell_type": "markdown",
      "metadata": {
        "id": "wzu_hbRLQUSi"
      },
      "source": [
        "the findall function"
      ]
    },
    {
      "cell_type": "code",
      "execution_count": null,
      "metadata": {
        "colab": {
          "base_uri": "https://localhost:8080/"
        },
        "id": "ny3YM-KALzsJ",
        "outputId": "43dd55a4-b297-499f-ab71-3bdc57681b85"
      },
      "outputs": [
        {
          "name": "stdout",
          "output_type": "stream",
          "text": [
            "['o', 'o', 'o', 'o']\n"
          ]
        }
      ],
      "source": [
        "#it prints a list of matches\n",
        "import re \n",
        "txt=\"i want to go for a movie\"\n",
        "x=re.findall(\"o\",txt)\n",
        "print(x)"
      ]
    },
    {
      "cell_type": "code",
      "execution_count": null,
      "metadata": {
        "colab": {
          "base_uri": "https://localhost:8080/"
        },
        "id": "nf8u53JrOemt",
        "outputId": "74b112e4-4016-4bf6-fee0-f968c684f2a2"
      },
      "outputs": [
        {
          "name": "stdout",
          "output_type": "stream",
          "text": [
            "[' ', ' ', ' ', ' ', ' ']\n",
            "\n",
            "yes found\n"
          ]
        }
      ],
      "source": [
        "#return the empty list if word not found\n",
        "import re\n",
        "txt=\"i want to go for movie\"\n",
        "x=re.findall(\"\\s\",txt)\n",
        "print(x)\n",
        "if x:\n",
        "  print(\"\\nyes found\")\n",
        "else:\n",
        "  print(\"\\nno not found\")"
      ]
    },
    {
      "cell_type": "code",
      "execution_count": null,
      "metadata": {
        "colab": {
          "base_uri": "https://localhost:8080/"
        },
        "id": "tak0BzrFPZQk",
        "outputId": "323362bd-b2d3-4fa1-8b50-325ac7682c8c"
      },
      "outputs": [
        {
          "name": "stdout",
          "output_type": "stream",
          "text": [
            "[]\n",
            "\n",
            "no not found\n"
          ]
        }
      ],
      "source": [
        "#new line\n",
        "import re\n",
        "txt=\"i want to go for movie\"\n",
        "x=re.findall(\"major\",txt)\n",
        "print(x)\n",
        "if x:\n",
        "  print(\"\\nyes found\")\n",
        "else:\n",
        "  print(\"\\nno not found\")"
      ]
    },
    {
      "cell_type": "code",
      "execution_count": null,
      "metadata": {
        "colab": {
          "base_uri": "https://localhost:8080/"
        },
        "id": "VGHRVxkySXrf",
        "outputId": "0a1ce02a-7701-4c06-e362-24edc902d863"
      },
      "outputs": [
        {
          "name": "stdout",
          "output_type": "stream",
          "text": [
            "['i ', 'wa', 'nt', 'to', 'go', 'fo', 'r ', 'mo', 'vi']\n",
            "\n",
            "yes found\n"
          ]
        }
      ],
      "source": [
        "#\\D the string does not contain digits\n",
        "import re\n",
        "txt=\"i ^want to go for movie\"\n",
        "x=re.findall(\"\\w\\D\",txt)\n",
        "print(x)\n",
        "if x:\n",
        "  print(\"\\nyes found\")\n",
        "else:\n",
        "  print(\"\\nno not found\")"
      ]
    },
    {
      "cell_type": "code",
      "execution_count": null,
      "metadata": {
        "colab": {
          "base_uri": "https://localhost:8080/"
        },
        "id": "7nifmpZvTt1M",
        "outputId": "707328b4-bdc7-4ac6-d73b-168cc9d69480"
      },
      "outputs": [
        {
          "name": "stdout",
          "output_type": "stream",
          "text": [
            "['DI', 'WA', 'LI', 'is', 'my', 'fa', 'vo', 'ri', 'te', 'fe', 'st', 'iv', 'al', 'It', 'is', 'th', 'e ', 'fe', 'st', 'iv', 'al', 'of', 'li', 'gh', 'ts', 'On', 'th', 'is', 'da', 'y ', 'we', 'pr', 'ay', 'fo', 'r ', 'DE', 'VI', 'LA', 'KS', 'HM', 'I.', 'We', 'ca', 'n ', 'li', 'gh', 't ', 'th', 'e ', 'ca', 'nd', 'le', 's ', 'an', 'd ', 'bu', 'rn', 'th', 'e ', 'cr', 'ak', 'er', 's.', 'in', 'th', 'is', 'ye', 'ar', 'it', 'is', 'ce', 'le', 'br', 'at', 'ed', 'on', '4 ', 'of', 'oc', 'to', 'be']\n"
          ]
        }
      ],
      "source": [
        "#the string does not contain digits\n",
        "import re\n",
        "txt=\"DIWALI is my favorite festival.It is the festival of lights.On this day we pray for DEVI LAKSHMI.We can light the candles and burn the crakers.in this year it is celebrated on 24 of october\"\n",
        "x=re.findall(\"\\w\\D\",txt)\n",
        "print(x)"
      ]
    },
    {
      "cell_type": "code",
      "execution_count": 2,
      "metadata": {
        "colab": {
          "base_uri": "https://localhost:8080/"
        },
        "id": "kge341RDWsr_",
        "outputId": "0841b737-9f76-472e-edeb-59f4784a8c6f"
      },
      "outputs": [
        {
          "output_type": "stream",
          "name": "stdout",
          "text": [
            "[',', ',', ',', ',']\n"
          ]
        }
      ],
      "source": [
        "import re\n",
        "txt=\"Python is a computer programming language often used to build websites and software, automate tasks, and conduct data analysis.Python has a simple syntax similar to the English language.we can use Python to create arcade games, adventure games, and puzzle games.python is a simple and important programming language.\"\n",
        "x=re.findall(\",\",txt)\n",
        "print(x)"
      ]
    },
    {
      "cell_type": "code",
      "source": [
        "import re\n",
        "txt = \"Python is a computer programming language often used to build websites and software, automate tasks, and conduct data analysis.Python has a simple syntax similar to the English language.we can use Python to create arcade games, adventure games, and puzzle games.python is a simple and important programming language.\"\n",
        "x = re.split(\"\\s\", txt)\n",
        "print(x)"
      ],
      "metadata": {
        "colab": {
          "base_uri": "https://localhost:8080/"
        },
        "id": "3KvrBkVE8mdi",
        "outputId": "8f023479-2eef-4d3c-ba75-716fdea8a1b8"
      },
      "execution_count": 4,
      "outputs": [
        {
          "output_type": "stream",
          "name": "stdout",
          "text": [
            "['Python', 'is', 'a', 'computer', 'programming', 'language', 'often', 'used', 'to', 'build', 'websites', 'and', 'software,', 'automate', 'tasks,', 'and', 'conduct', 'data', 'analysis.Python', 'has', 'a', 'simple', 'syntax', 'similar', 'to', 'the', 'English', 'language.we', 'can', 'use', 'Python', 'to', 'create', 'arcade', 'games,', 'adventure', 'games,', 'and', 'puzzle', 'games.python', 'is', 'a', 'simple', 'and', 'important', 'programming', 'language.']\n"
          ]
        }
      ]
    },
    {
      "cell_type": "code",
      "source": [
        "import re\n",
        "txt=\"\""
      ],
      "metadata": {
        "id": "VBXoHhxQ9LWU"
      },
      "execution_count": null,
      "outputs": []
    }
  ],
  "metadata": {
    "colab": {
      "collapsed_sections": [],
      "name": " PYTHON REG EX",
      "provenance": [],
      "authorship_tag": "ABX9TyNMtSe3iTi84fKlS72dbFH9",
      "include_colab_link": true
    },
    "kernelspec": {
      "display_name": "Python 3",
      "name": "python3"
    },
    "language_info": {
      "name": "python"
    }
  },
  "nbformat": 4,
  "nbformat_minor": 0
}