{
  "nbformat": 4,
  "nbformat_minor": 0,
  "metadata": {
    "colab": {
      "name": "Dictionaries",
      "provenance": [],
      "collapsed_sections": [],
      "authorship_tag": "ABX9TyNaSvVFfnKsllIitdyzHQ9J",
      "include_colab_link": true
    },
    "kernelspec": {
      "name": "python3",
      "display_name": "Python 3"
    },
    "language_info": {
      "name": "python"
    }
  },
  "cells": [
    {
      "cell_type": "markdown",
      "metadata": {
        "id": "view-in-github",
        "colab_type": "text"
      },
      "source": [
        "<a href=\"https://colab.research.google.com/github/VU21CSEN0100182/PYTHON/blob/main/Dictionaries.ipynb\" target=\"_parent\"><img src=\"https://colab.research.google.com/assets/colab-badge.svg\" alt=\"Open In Colab\"/></a>"
      ]
    },
    {
      "cell_type": "markdown",
      "source": [
        "#Python Dictionaries"
      ],
      "metadata": {
        "id": "ButwP5qUeHRO"
      }
    },
    {
      "cell_type": "code",
      "execution_count": null,
      "metadata": {
        "colab": {
          "base_uri": "https://localhost:8080/"
        },
        "id": "SUjin0n2dsmK",
        "outputId": "695a8598-57be-43bf-8d84-7df18116b82e"
      },
      "outputs": [
        {
          "output_type": "stream",
          "name": "stdout",
          "text": [
            "{'KFC': 'opened', 'in': 'the', 'year': '1952'}\n"
          ]
        }
      ],
      "source": [
        "#Dictionary\n",
        "a={\n",
        "    \"KFC\":\"opened\",\n",
        "    \"in\":\"the\",\n",
        "    \"year\":\"1952\"\n",
        "}\n",
        "print(a)"
      ]
    },
    {
      "cell_type": "code",
      "source": [
        "b = {\n",
        "  \"india\": \"got\",\n",
        "  \"independence\": \"in\",\n",
        "  \"year\": 1947\n",
        "}\n",
        "print(b[\"india\"])"
      ],
      "metadata": {
        "colab": {
          "base_uri": "https://localhost:8080/"
        },
        "id": "Jk9GusBvg8Il",
        "outputId": "f9843c61-e23c-400a-ff35-97f226aa45ed"
      },
      "execution_count": null,
      "outputs": [
        {
          "output_type": "stream",
          "name": "stdout",
          "text": [
            "got\n"
          ]
        }
      ]
    },
    {
      "cell_type": "code",
      "source": [
        "#Duplicates\n",
        "a={\n",
        "  \"india\": \"got\",\n",
        "  \"independence\": \"in\",\n",
        "  \"year\": 1947,\n",
        "   \"republic\":\"in\",\n",
        "   \"year\":1950\n",
        "}\n",
        "print(a)"
      ],
      "metadata": {
        "colab": {
          "base_uri": "https://localhost:8080/",
          "height": 0
        },
        "id": "fVR8wUfz5lEG",
        "outputId": "c05cd30d-83c0-4c69-d79f-603246e36c69"
      },
      "execution_count": 2,
      "outputs": [
        {
          "output_type": "stream",
          "name": "stdout",
          "text": [
            "{'india': 'got', 'independence': 'in', 'year': 1950, 'republic': 'in'}\n"
          ]
        }
      ]
    },
    {
      "cell_type": "code",
      "source": [
        "#Length\n",
        "a={\n",
        "   \"india\": \"got\",\n",
        "   \"independence\": \"in\",\n",
        "   \"year\": 1947,\n",
        "   \"republic\":\"in\",\n",
        "   \"year\":1950\n",
        "}\n",
        "print(len(a))"
      ],
      "metadata": {
        "colab": {
          "base_uri": "https://localhost:8080/",
          "height": 0
        },
        "id": "qgunmmGO686F",
        "outputId": "83b802f3-65df-4f69-e016-4e531b72397d"
      },
      "execution_count": 4,
      "outputs": [
        {
          "output_type": "stream",
          "name": "stdout",
          "text": [
            "4\n"
          ]
        }
      ]
    },
    {
      "cell_type": "markdown",
      "source": [
        "Dictionary Items"
      ],
      "metadata": {
        "id": "YsbAkbcD7tJs"
      }
    },
    {
      "cell_type": "code",
      "source": [
        "#Data Types\n",
        "a={\n",
        "  \"brand\": \"Ford\",\n",
        "  \"electric\": False,\n",
        "  \"year\": 1964,\n",
        "  \"colors\": [\"red\", \"white\", \"blue\"]\n",
        "}\n",
        "print(a)"
      ],
      "metadata": {
        "colab": {
          "base_uri": "https://localhost:8080/",
          "height": 0
        },
        "id": "FmMO62zp7oM8",
        "outputId": "15e8c814-255b-41c6-b780-7cae24c49410"
      },
      "execution_count": 12,
      "outputs": [
        {
          "output_type": "stream",
          "name": "stdout",
          "text": [
            "{'brand': 'Ford', 'electric': False, 'year': 1964, 'colors': ['red', 'white', 'blue']}\n"
          ]
        }
      ]
    },
    {
      "cell_type": "code",
      "source": [
        "#type()\n",
        "a= {\n",
        "  \"brand\": \"Ford\",\n",
        "  \"model\": \"electric\",\n",
        "  \"year\": 1978\n",
        "}\n",
        "print(type(a))"
      ],
      "metadata": {
        "colab": {
          "base_uri": "https://localhost:8080/",
          "height": 0
        },
        "id": "WK9ORF6jAYtm",
        "outputId": "8821da4e-90d0-4f5f-9687-ffd5302cae56"
      },
      "execution_count": 13,
      "outputs": [
        {
          "output_type": "stream",
          "name": "stdout",
          "text": [
            "<class 'dict'>\n"
          ]
        }
      ]
    },
    {
      "cell_type": "markdown",
      "source": [
        "#Python - Access Dictionary Items"
      ],
      "metadata": {
        "id": "mfTEQ7LTBrSr"
      }
    },
    {
      "cell_type": "code",
      "source": [
        "#Accessing Items\n",
        "a= {\n",
        "  \"brand\": \"Ford\",\n",
        "  \"model\": \"electric\",\n",
        "  \"year\": 1964\n",
        "}\n",
        "x = a[\"year\"]\n",
        "print(x)"
      ],
      "metadata": {
        "colab": {
          "base_uri": "https://localhost:8080/",
          "height": 0
        },
        "id": "IPbeOIT2Bted",
        "outputId": "c8e2cb3f-1667-4d18-dc31-7498f309299c"
      },
      "execution_count": 15,
      "outputs": [
        {
          "output_type": "stream",
          "name": "stdout",
          "text": [
            "1964\n"
          ]
        }
      ]
    },
    {
      "cell_type": "code",
      "source": [
        "#get()\n",
        "a =\t{\n",
        "  \"kfc\": \"Ford\",\n",
        "  \"model\": \"electric\",\n",
        "  \"year\": 1964\n",
        "}\n",
        "x = a.get(\"kfc\")\n",
        "print(x)"
      ],
      "metadata": {
        "colab": {
          "base_uri": "https://localhost:8080/",
          "height": 0
        },
        "id": "jB3ttJrsFI5m",
        "outputId": "362ec1a7-20cc-4cb7-9c9b-6ca44aab33cf"
      },
      "execution_count": 18,
      "outputs": [
        {
          "output_type": "stream",
          "name": "stdout",
          "text": [
            "Ford\n"
          ]
        }
      ]
    },
    {
      "cell_type": "code",
      "source": [
        "#Get Keys\n",
        "a = {\n",
        "    \"KFC\":\"opened\",\n",
        "    \"in\":\"the\",\n",
        "    \"year\":\"1952\"\n",
        "}\n",
        "x =a.keys()\n",
        "print(x)"
      ],
      "metadata": {
        "colab": {
          "base_uri": "https://localhost:8080/",
          "height": 0
        },
        "id": "RVVjULbiFwgr",
        "outputId": "cbf9a868-b0c7-4a5a-b5d0-0d094d5e0423"
      },
      "execution_count": 19,
      "outputs": [
        {
          "output_type": "stream",
          "name": "stdout",
          "text": [
            "dict_keys(['KFC', 'in', 'year'])\n"
          ]
        }
      ]
    },
    {
      "cell_type": "code",
      "source": [
        "#\n",
        "car = {\n",
        "\"brand\": \"Ford\",\n",
        "\"model\": \"electrical\",\n",
        "\"year\": 1998\n",
        "}\n",
        "x = car.keys()\n",
        "print(x) \n",
        "car[\"color\"] = \"white\"\n",
        "print(x)"
      ],
      "metadata": {
        "colab": {
          "base_uri": "https://localhost:8080/",
          "height": 0
        },
        "id": "afLzsNfOHClW",
        "outputId": "e0179184-b26b-4e91-caaa-2f7c09afce28"
      },
      "execution_count": 20,
      "outputs": [
        {
          "output_type": "stream",
          "name": "stdout",
          "text": [
            "dict_keys(['brand', 'model', 'year'])\n",
            "dict_keys(['brand', 'model', 'year', 'color'])\n"
          ]
        }
      ]
    },
    {
      "cell_type": "code",
      "source": [
        "a= {\n",
        "  \"blue\": \"pink\",\n",
        "  \"red\": \"black\",\n",
        "  \"year\": 1964\n",
        "}\n",
        "x =a.values()\n",
        "print(x)"
      ],
      "metadata": {
        "colab": {
          "base_uri": "https://localhost:8080/",
          "height": 0
        },
        "id": "zBkJ-K_fHQxK",
        "outputId": "82d4847f-cd15-4e9b-828d-54b277608529"
      },
      "execution_count": 21,
      "outputs": [
        {
          "output_type": "stream",
          "name": "stdout",
          "text": [
            "dict_values(['pink', 'black', 1964])\n"
          ]
        }
      ]
    },
    {
      "cell_type": "markdown",
      "source": [
        "Get Items"
      ],
      "metadata": {
        "id": "ft8HxGQuIsbC"
      }
    },
    {
      "cell_type": "code",
      "source": [
        "thisdict = {\n",
        "  \"blue\": \"pink\",\n",
        "  \"red\": \"black\",\n",
        "  \"year\": 1986\n",
        "  }\n",
        "x = thisdict.items()\n",
        "print(x)"
      ],
      "metadata": {
        "colab": {
          "base_uri": "https://localhost:8080/",
          "height": 0
        },
        "id": "273x_tuLIhv2",
        "outputId": "de2a7d98-f362-4e77-a8ce-8054ee661a68"
      },
      "execution_count": 22,
      "outputs": [
        {
          "output_type": "stream",
          "name": "stdout",
          "text": [
            "dict_items([('blue', 'pink'), ('red', 'black'), ('year', 1986)])\n"
          ]
        }
      ]
    },
    {
      "cell_type": "code",
      "source": [
        "car = {\n",
        "  \"blue\": \"pink\",\n",
        "  \"red\": \"black\",\n",
        "  \"year\": 1986\n",
        "}\n",
        "x = car.items()\n",
        "print(x) \n",
        "car[\"year\"] = 2020\n",
        "print(x) "
      ],
      "metadata": {
        "colab": {
          "base_uri": "https://localhost:8080/",
          "height": 0
        },
        "id": "PZlvUT8nJiwd",
        "outputId": "c9e281de-1799-4c40-d5a8-cbaa6157430c"
      },
      "execution_count": 23,
      "outputs": [
        {
          "output_type": "stream",
          "name": "stdout",
          "text": [
            "dict_items([('blue', 'pink'), ('red', 'black'), ('year', 1986)])\n",
            "dict_items([('blue', 'pink'), ('red', 'black'), ('year', 2020)])\n"
          ]
        }
      ]
    },
    {
      "cell_type": "markdown",
      "source": [
        "Check if Key Exists"
      ],
      "metadata": {
        "id": "2MOnt6AfKAQi"
      }
    },
    {
      "cell_type": "code",
      "source": [
        "list= {\n",
        "  \"blue\": \"pink\",\n",
        "  \"red\": \"black\",\n",
        "  \"year\": 1986\n",
        "}\n",
        "if \"blue\" in list:\n",
        "  print(\"Yes, 'blue' is one of the keys in the list dictionary\")"
      ],
      "metadata": {
        "colab": {
          "base_uri": "https://localhost:8080/",
          "height": 0
        },
        "id": "BzJZPiJeJ7k4",
        "outputId": "8f65fdcc-6781-480f-fa35-36edb11e0639"
      },
      "execution_count": 28,
      "outputs": [
        {
          "output_type": "stream",
          "name": "stdout",
          "text": [
            "Yes, 'blue' is one of the keys in the list dictionary\n"
          ]
        }
      ]
    },
    {
      "cell_type": "markdown",
      "source": [
        "#Python - Change Dictionary Items"
      ],
      "metadata": {
        "id": "7cPrlUncLNq7"
      }
    },
    {
      "cell_type": "code",
      "source": [
        "#change values\n",
        "a = {\n",
        "  \"blue\": \"pink\",\n",
        "  \"red\": \"black\",\n",
        "  \"year\": 1996\n",
        "}\n",
        "a[\"year\"] = 2022\n",
        "print(a)"
      ],
      "metadata": {
        "colab": {
          "base_uri": "https://localhost:8080/",
          "height": 0
        },
        "id": "qrHhc8PfLFni",
        "outputId": "3e68ddad-faf6-4dfc-e13b-5b0240be2f82"
      },
      "execution_count": 30,
      "outputs": [
        {
          "output_type": "stream",
          "name": "stdout",
          "text": [
            "{'blue': 'pink', 'red': 'black', 'year': 2022}\n"
          ]
        }
      ]
    },
    {
      "cell_type": "code",
      "source": [
        "#Update Dictionary\n",
        "a= {\n",
        "  \"brand\": \"Ford\",\n",
        "  \"model\": \"Mustang\",\n",
        "  \"year\": 1993\n",
        "}\n",
        "a.update({\"year\": 2022})\n",
        "print(a)\n"
      ],
      "metadata": {
        "colab": {
          "base_uri": "https://localhost:8080/",
          "height": 0
        },
        "id": "sJRBJM79MEMK",
        "outputId": "6b3742f7-31ed-4f8c-d5e2-7cd249639874"
      },
      "execution_count": 31,
      "outputs": [
        {
          "output_type": "stream",
          "name": "stdout",
          "text": [
            "{'brand': 'Ford', 'model': 'Mustang', 'year': 2022}\n"
          ]
        }
      ]
    },
    {
      "cell_type": "markdown",
      "source": [
        "#Python - Add Dictionary Items"
      ],
      "metadata": {
        "id": "wxWnuE4fMnL3"
      }
    },
    {
      "cell_type": "code",
      "source": [
        "#addd items\n",
        "a = {\n",
        "  \"blue\": \"pink\",\n",
        "  \"red\": \"black\",\n",
        "  \"year\": 1996\n",
        "}\n",
        "a[\"color\"] = \"white\"\n",
        "print(a)"
      ],
      "metadata": {
        "colab": {
          "base_uri": "https://localhost:8080/",
          "height": 0
        },
        "id": "BLb_FitHMi1l",
        "outputId": "853ed312-1132-46a6-b6a6-e11efd95478b"
      },
      "execution_count": 32,
      "outputs": [
        {
          "output_type": "stream",
          "name": "stdout",
          "text": [
            "{'blue': 'pink', 'red': 'black', 'year': 1996, 'color': 'white'}\n"
          ]
        }
      ]
    },
    {
      "cell_type": "code",
      "source": [
        "#update()\n",
        "a= {\n",
        "  \"blue\": \"pink\",\n",
        "  \"red\": \"black\",\n",
        "  \"year\": 1996\n",
        "}\n",
        "a.update({\"color\": \"white\"})\n",
        "print(a)"
      ],
      "metadata": {
        "colab": {
          "base_uri": "https://localhost:8080/",
          "height": 0
        },
        "id": "BRdp2l7gNa5z",
        "outputId": "e9342b0b-090c-49a7-bedc-963c6496f2fa"
      },
      "execution_count": 34,
      "outputs": [
        {
          "output_type": "stream",
          "name": "stdout",
          "text": [
            "{'blue': 'pink', 'red': 'black', 'year': 1996, 'color': 'white'}\n"
          ]
        }
      ]
    },
    {
      "cell_type": "markdown",
      "source": [
        "#Python - Remove Dictionary Items"
      ],
      "metadata": {
        "id": "Iyx9fge_N2PI"
      }
    },
    {
      "cell_type": "code",
      "source": [
        "a= {\n",
        "  \"blue\": \"pink\",\n",
        "  \"red\": \"black\",\n",
        "  \"year\": 1996\n",
        "}\n",
        "a.pop(\"blue\")\n",
        "print(a)"
      ],
      "metadata": {
        "colab": {
          "base_uri": "https://localhost:8080/",
          "height": 0
        },
        "id": "a6BTevZQNxGg",
        "outputId": "b9ea3494-e047-4d59-88fe-513a481d5c05"
      },
      "execution_count": 36,
      "outputs": [
        {
          "output_type": "stream",
          "name": "stdout",
          "text": [
            "{'red': 'black', 'year': 1996}\n"
          ]
        }
      ]
    },
    {
      "cell_type": "code",
      "source": [
        "#popitem()\n",
        "a = {\n",
        "  \"blue\": \"pink\",\n",
        "  \"red\": \"black\",\n",
        "  \"year\": 1996\n",
        "}\n",
        "a.popitem()\n",
        "print(a)"
      ],
      "metadata": {
        "colab": {
          "base_uri": "https://localhost:8080/",
          "height": 0
        },
        "id": "81itpFd5OW4a",
        "outputId": "0f488a74-3046-4dff-da93-bd1f7348ce47"
      },
      "execution_count": 37,
      "outputs": [
        {
          "output_type": "stream",
          "name": "stdout",
          "text": [
            "{'blue': 'pink', 'red': 'black'}\n"
          ]
        }
      ]
    },
    {
      "cell_type": "code",
      "source": [
        "#del\n",
        "a = {\n",
        "  \"blue\": \"pink\",\n",
        "  \"red\": \"black\",\n",
        "  \"year\": 1996\n",
        "}\n",
        "del a[\"blue\"]\n",
        "print(abs)\n"
      ],
      "metadata": {
        "colab": {
          "base_uri": "https://localhost:8080/",
          "height": 0
        },
        "id": "NT6E7EWlOxIR",
        "outputId": "ecf8f2c8-2679-4985-d7d5-39434a7afd4e"
      },
      "execution_count": 38,
      "outputs": [
        {
          "output_type": "stream",
          "name": "stdout",
          "text": [
            "<built-in function abs>\n"
          ]
        }
      ]
    },
    {
      "cell_type": "code",
      "source": [
        "a={\n",
        "  \"blue\": \"pink\",\n",
        "  \"red\": \"black\",\n",
        "  \"year\": 1996\n",
        "}\n",
        "del a\n",
        "print(a)"
      ],
      "metadata": {
        "colab": {
          "base_uri": "https://localhost:8080/",
          "height": 201
        },
        "id": "ZQsjHDQlQ8vd",
        "outputId": "68b843de-ba6e-4cd4-d929-41de5950ac3a"
      },
      "execution_count": 39,
      "outputs": [
        {
          "output_type": "error",
          "ename": "NameError",
          "evalue": "ignored",
          "traceback": [
            "\u001b[0;31m---------------------------------------------------------------------------\u001b[0m",
            "\u001b[0;31mNameError\u001b[0m                                 Traceback (most recent call last)",
            "\u001b[0;32m<ipython-input-39-2523df2de3e9>\u001b[0m in \u001b[0;36m<module>\u001b[0;34m()\u001b[0m\n\u001b[1;32m      5\u001b[0m }\n\u001b[1;32m      6\u001b[0m \u001b[0;32mdel\u001b[0m \u001b[0ma\u001b[0m\u001b[0;34m\u001b[0m\u001b[0;34m\u001b[0m\u001b[0m\n\u001b[0;32m----> 7\u001b[0;31m \u001b[0mprint\u001b[0m\u001b[0;34m(\u001b[0m\u001b[0ma\u001b[0m\u001b[0;34m)\u001b[0m\u001b[0;34m\u001b[0m\u001b[0;34m\u001b[0m\u001b[0m\n\u001b[0m",
            "\u001b[0;31mNameError\u001b[0m: name 'a' is not defined"
          ]
        }
      ]
    },
    {
      "cell_type": "code",
      "source": [
        "#clear()\n",
        "a= {\n",
        "  \"blue\": \"pink\",\n",
        "  \"red\": \"black\",\n",
        "  \"year\": 1996\n",
        "}\n",
        "a.clear()\n",
        "print(a)"
      ],
      "metadata": {
        "colab": {
          "base_uri": "https://localhost:8080/",
          "height": 0
        },
        "id": "nXPyy_u5Rd2r",
        "outputId": "6bcf673c-ca1d-4bdb-daae-df1fb73e6808"
      },
      "execution_count": 41,
      "outputs": [
        {
          "output_type": "stream",
          "name": "stdout",
          "text": [
            "{}\n"
          ]
        }
      ]
    },
    {
      "cell_type": "code",
      "source": [
        "#Python - Loop Dictionaries\n",
        "a=\t{\n",
        "  \"blue\": \"pink\",\n",
        "  \"red\": \"black\",\n",
        "  \"year\": 1996\n",
        "}\n",
        "for x in a:\n",
        "  print(x)"
      ],
      "metadata": {
        "colab": {
          "base_uri": "https://localhost:8080/",
          "height": 0
        },
        "id": "BlToVsSDR6mA",
        "outputId": "82b61a94-404d-48a1-88bf-791737cf5c6e"
      },
      "execution_count": 43,
      "outputs": [
        {
          "output_type": "stream",
          "name": "stdout",
          "text": [
            "blue\n",
            "red\n",
            "year\n"
          ]
        }
      ]
    },
    {
      "cell_type": "code",
      "source": [
        "a={\n",
        "  \"blue\": \"pink\",\n",
        "  \"red\": \"black\",\n",
        "  \"year\": 1996\n",
        "}\n",
        "for x in a:\n",
        "  print(a[x])"
      ],
      "metadata": {
        "colab": {
          "base_uri": "https://localhost:8080/",
          "height": 0
        },
        "id": "j1dLZPZzSRkY",
        "outputId": "d042a552-211f-4dcd-9c53-f517f0f61229"
      },
      "execution_count": 44,
      "outputs": [
        {
          "output_type": "stream",
          "name": "stdout",
          "text": [
            "pink\n",
            "black\n",
            "1996\n"
          ]
        }
      ]
    },
    {
      "cell_type": "code",
      "source": [
        "#values()\n",
        "a=\t{\n",
        "  \"blue\": \"pink\",\n",
        "  \"red\": \"black\",\n",
        "  \"year\": 1996\n",
        "}\n",
        "for x in a.values():\n",
        "  print(x)"
      ],
      "metadata": {
        "colab": {
          "base_uri": "https://localhost:8080/",
          "height": 0
        },
        "id": "jSRwJhKuSv7Y",
        "outputId": "b48a5781-ab47-4ec8-bd8c-443031df0a52"
      },
      "execution_count": 45,
      "outputs": [
        {
          "output_type": "stream",
          "name": "stdout",
          "text": [
            "pink\n",
            "black\n",
            "1996\n"
          ]
        }
      ]
    },
    {
      "cell_type": "code",
      "source": [
        "#keys()\n",
        "a={\n",
        " \"blue\": \"pink\",\n",
        "  \"red\": \"black\",\n",
        "  \"year\": 1996\n",
        "}\n",
        "for x in a.keys():\n",
        "  print(x)"
      ],
      "metadata": {
        "colab": {
          "base_uri": "https://localhost:8080/",
          "height": 0
        },
        "id": "4b3vaOppTC7u",
        "outputId": "3b66a8a4-3883-4c26-c52c-6b62e1b09e4c"
      },
      "execution_count": 48,
      "outputs": [
        {
          "output_type": "stream",
          "name": "stdout",
          "text": [
            "blue\n",
            "red\n",
            "year\n"
          ]
        }
      ]
    },
    {
      "cell_type": "code",
      "source": [
        "#items()\n",
        "a={\n",
        " \"blue\": \"pink\",\n",
        "  \"red\": \"black\",\n",
        "  \"year\": 1996\n",
        "}\n",
        "for x, y in a.items():\n",
        "  print(x, y)"
      ],
      "metadata": {
        "colab": {
          "base_uri": "https://localhost:8080/",
          "height": 0
        },
        "id": "JcNA3XGsTV-o",
        "outputId": "042f7bb2-48e4-429d-ff00-fbeba505e357"
      },
      "execution_count": 49,
      "outputs": [
        {
          "output_type": "stream",
          "name": "stdout",
          "text": [
            "blue pink\n",
            "red black\n",
            "year 1996\n"
          ]
        }
      ]
    },
    {
      "cell_type": "markdown",
      "source": [
        "#Python - Copy Dictionaries"
      ],
      "metadata": {
        "id": "aU3x6vKST9YN"
      }
    },
    {
      "cell_type": "code",
      "source": [
        "#copy()\n",
        "a={\n",
        " \"blue\": \"pink\",\n",
        "  \"red\": \"black\",\n",
        "  \"year\": 1996\n",
        "}\n",
        "mydict =a.copy()\n",
        "print(mydict)"
      ],
      "metadata": {
        "colab": {
          "base_uri": "https://localhost:8080/",
          "height": 0
        },
        "id": "zakFxnx0T4S0",
        "outputId": "e0cf885f-6a7b-4c43-fc28-51cc7cf700af"
      },
      "execution_count": 50,
      "outputs": [
        {
          "output_type": "stream",
          "name": "stdout",
          "text": [
            "{'blue': 'pink', 'red': 'black', 'year': 1996}\n"
          ]
        }
      ]
    },
    {
      "cell_type": "code",
      "source": [
        "#dict()\n",
        "a={\n",
        " \"blue\": \"pink\",\n",
        "  \"red\": \"black\",\n",
        "  \"year\": 1996\n",
        "}\n",
        "mydict = dict(a)\n",
        "print(mydict)"
      ],
      "metadata": {
        "colab": {
          "base_uri": "https://localhost:8080/",
          "height": 0
        },
        "id": "kT_FVdurUrCd",
        "outputId": "3bec433e-47ab-46d8-e062-ae2b9b80676e"
      },
      "execution_count": 51,
      "outputs": [
        {
          "output_type": "stream",
          "name": "stdout",
          "text": [
            "{'blue': 'pink', 'red': 'black', 'year': 1996}\n"
          ]
        }
      ]
    },
    {
      "cell_type": "markdown",
      "source": [
        "#Python - Nested Dictionaries"
      ],
      "metadata": {
        "id": "XSG_JP18VJ4p"
      }
    },
    {
      "cell_type": "code",
      "source": [
        "myfriend = {\n",
        "  \"friend1\" : {\n",
        "    \"name\" : \"harshitha\",\n",
        "    \"year\" : 2004\n",
        "  },\n",
        "  \"friend2\" : {\n",
        "    \"name\" : \"deepika\",\n",
        "    \"year\" : 2004\n",
        "  },\n",
        "  \"friend3\" : {\n",
        "    \"name\" : \"srihitha\",\n",
        "    \"year\" : 2003\n",
        "  }\n",
        "}\n",
        "print(myfriend)"
      ],
      "metadata": {
        "colab": {
          "base_uri": "https://localhost:8080/",
          "height": 0
        },
        "id": "XXqEzNl_VGyF",
        "outputId": "ac23726f-4a49-4f60-890a-c309a153493f"
      },
      "execution_count": 53,
      "outputs": [
        {
          "output_type": "stream",
          "name": "stdout",
          "text": [
            "{'friend1': {'name': 'harshitha', 'year': 2004}, 'friend2': {'name': 'deepika', 'year': 2004}, 'friend3': {'name': 'srihitha', 'year': 2003}}\n"
          ]
        }
      ]
    }
  ]
}