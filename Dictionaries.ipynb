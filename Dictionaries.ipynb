{
  "nbformat": 4,
  "nbformat_minor": 0,
  "metadata": {
    "colab": {
      "name": "Dictionaries",
      "provenance": [],
      "collapsed_sections": [],
      "authorship_tag": "ABX9TyP17oJRHxBf0fMCMiS+HYS9",
      "include_colab_link": true
    },
    "kernelspec": {
      "name": "python3",
      "display_name": "Python 3"
    },
    "language_info": {
      "name": "python"
    }
  },
  "cells": [
    {
      "cell_type": "markdown",
      "metadata": {
        "id": "view-in-github",
        "colab_type": "text"
      },
      "source": [
        "<a href=\"https://colab.research.google.com/github/VU21CSEN0100182/PYTHON/blob/main/Dictionaries.ipynb\" target=\"_parent\"><img src=\"https://colab.research.google.com/assets/colab-badge.svg\" alt=\"Open In Colab\"/></a>"
      ]
    },
    {
      "cell_type": "markdown",
      "source": [
        "#Python Dictionaries"
      ],
      "metadata": {
        "id": "ButwP5qUeHRO"
      }
    },
    {
      "cell_type": "code",
      "execution_count": 4,
      "metadata": {
        "colab": {
          "base_uri": "https://localhost:8080/"
        },
        "id": "SUjin0n2dsmK",
        "outputId": "695a8598-57be-43bf-8d84-7df18116b82e"
      },
      "outputs": [
        {
          "output_type": "stream",
          "name": "stdout",
          "text": [
            "{'KFC': 'opened', 'in': 'the', 'year': '1952'}\n"
          ]
        }
      ],
      "source": [
        "#Dictionary\n",
        "a={\n",
        "    \"KFC\":\"opened\",\n",
        "    \"in\":\"the\",\n",
        "    \"year\":\"1952\"\n",
        "}\n",
        "print(a)"
      ]
    },
    {
      "cell_type": "code",
      "source": [
        ""
      ],
      "metadata": {
        "id": "Jk9GusBvg8Il"
      },
      "execution_count": null,
      "outputs": []
    }
  ]
}