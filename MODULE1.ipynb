{
  "nbformat": 4,
  "nbformat_minor": 0,
  "metadata": {
    "colab": {
      "name": "MODULE1",
      "provenance": [],
      "collapsed_sections": [],
      "authorship_tag": "ABX9TyP9+CtWvB2zgVV7Mzg+021D",
      "include_colab_link": true
    },
    "kernelspec": {
      "name": "python3",
      "display_name": "Python 3"
    },
    "language_info": {
      "name": "python"
    }
  },
  "cells": [
    {
      "cell_type": "markdown",
      "metadata": {
        "id": "view-in-github",
        "colab_type": "text"
      },
      "source": [
        "<a href=\"https://colab.research.google.com/github/VU21CSEN0100182/PYTHON/blob/main/MODULE1.ipynb\" target=\"_parent\"><img src=\"https://colab.research.google.com/assets/colab-badge.svg\" alt=\"Open In Colab\"/></a>"
      ]
    },
    {
      "cell_type": "markdown",
      "source": [
        "Accept input from user and store it in variable and print the value"
      ],
      "metadata": {
        "id": "peV2BsOJdSCx"
      }
    },
    {
      "cell_type": "code",
      "execution_count": 2,
      "metadata": {
        "colab": {
          "base_uri": "https://localhost:8080/"
        },
        "id": "-OHm9gjqbICW",
        "outputId": "ed8e6cb6-af6b-4b45-d44d-756d3bb1133c"
      },
      "outputs": [
        {
          "output_type": "stream",
          "name": "stdout",
          "text": [
            "48\n",
            "78\n",
            "-26\n"
          ]
        }
      ],
      "source": [
        "a=300\n",
        "b=200\n",
        "c=int(input())\n",
        "d=int(input())\n",
        "e=a-(b)-(c)-(d)\n",
        "print(e)"
      ]
    },
    {
      "cell_type": "markdown",
      "source": [
        "Use of print statements and use of (.format )for printing different data types"
      ],
      "metadata": {
        "id": "XG9xuXWJfRfh"
      }
    },
    {
      "cell_type": "code",
      "source": [
        "quantity = 2\n",
        "itemno = 118\n",
        "price = 299\n",
        "myorder = \"I want {} pieces of item {} for {} rupees.\"\n",
        "print(myorder.format(quantity, itemno, price))"
      ],
      "metadata": {
        "colab": {
          "base_uri": "https://localhost:8080/"
        },
        "id": "7CCNYCPsfVWn",
        "outputId": "3ff5ec39-55b5-4a5a-c1ef-6deccc3c27c8"
      },
      "execution_count": 13,
      "outputs": [
        {
          "output_type": "stream",
          "name": "stdout",
          "text": [
            "I want 2 pieces of item 118 for 299 rupees.\n"
          ]
        }
      ]
    },
    {
      "cell_type": "code",
      "source": [
        "quantity = 5\n",
        "itemno = 827\n",
        "price = 1059\n",
        "myorder = \"I want to pay {2} rupees for {0} pieces of item {1}.\"c\n",
        "print(myorder.format(quantity, itemno, price))"
      ],
      "metadata": {
        "colab": {
          "base_uri": "https://localhost:8080/"
        },
        "id": "kF3XJBwmlvKA",
        "outputId": "ac85a619-620b-461c-b9fc-549332f67d53"
      },
      "execution_count": 16,
      "outputs": [
        {
          "output_type": "stream",
          "name": "stdout",
          "text": [
            "I want to pay 1059 rupees for 5 pieces of item 827.\n"
          ]
        }
      ]
    },
    {
      "cell_type": "markdown",
      "source": [
        " Take 2 numbers as user input and add, multiply, divide, subtract, remainder and print the output"
      ],
      "metadata": {
        "id": "NbEJQtVIhZX6"
      }
    },
    {
      "cell_type": "code",
      "source": [
        "a=(int(input(\"Enter the numbers\")))\n",
        "b=(int(input(\"Enter the numbers\")))\n",
        "sum=a+b\n",
        "print(sum)\n",
        "sub=a-b\n",
        "print(sub)\n",
        "multiply=a*b\n",
        "print(multiply)\n",
        "divide=a/b\n",
        "print(divide)\n",
        "rem=a%b\n",
        "print(rem)\n",
        "print(type(0))"
      ],
      "metadata": {
        "colab": {
          "base_uri": "https://localhost:8080/"
        },
        "id": "Q4Htirc9hl6V",
        "outputId": "04b377d8-1ad4-401b-97f0-8c401b6e3b32"
      },
      "execution_count": 4,
      "outputs": [
        {
          "output_type": "stream",
          "name": "stdout",
          "text": [
            "Enter the numbers3\n",
            "Enter the numbers2\n",
            "5\n",
            "1\n",
            "6\n",
            "1.5\n",
            "1\n",
            "<class 'int'>\n"
          ]
        }
      ]
    },
    {
      "cell_type": "code",
      "source": [
        "a=70\n",
        "b=32\n",
        "sum=a+b\n",
        "print(sum)\n",
        "sub=a-b\n",
        "print(sub)\n",
        "multiply=a*b\n",
        "print(multiply)\n",
        "divide=a/b\n",
        "print(divide)\n",
        "rem=a%b\n",
        "print(rem)\n",
        "print(type(a))"
      ],
      "metadata": {
        "colab": {
          "base_uri": "https://localhost:8080/"
        },
        "id": "vVVPviFcj-FP",
        "outputId": "38e0c8a8-8e66-4ed9-b47d-d0e0003c8c7d"
      },
      "execution_count": 11,
      "outputs": [
        {
          "output_type": "stream",
          "name": "stdout",
          "text": [
            "102\n",
            "38\n",
            "2240\n",
            "2.1875\n",
            "6\n",
            "<class 'int'>\n"
          ]
        }
      ]
    },
    {
      "cell_type": "markdown",
      "source": [
        "Same operations on floating point input as well"
      ],
      "metadata": {
        "id": "PfNadiwSjRng"
      }
    },
    {
      "cell_type": "code",
      "source": [
        "a=9.6\n",
        "b=4.2\n",
        "sum=a+b\n",
        "print(sum)\n",
        "sub=a-b\n",
        "print(sub)\n",
        "multiply=a*b\n",
        "print(multiply)\n",
        "divide=a/b\n",
        "print(divide)\n",
        "rem=a%b\n",
        "print(rem)\n",
        "print(type(a))"
      ],
      "metadata": {
        "colab": {
          "base_uri": "https://localhost:8080/"
        },
        "id": "lm0Z-NswjDy_",
        "outputId": "b16d2c64-7946-45a7-b69b-22a7a08ee110"
      },
      "execution_count": 10,
      "outputs": [
        {
          "output_type": "stream",
          "name": "stdout",
          "text": [
            "13.8\n",
            "5.3999999999999995\n",
            "40.32\n",
            "2.2857142857142856\n",
            "1.1999999999999993\n",
            "<class 'float'>\n"
          ]
        }
      ]
    },
    {
      "cell_type": "markdown",
      "source": [
        "Conversion of one unit to another (such as hours to minutes, miles to km and etc)"
      ],
      "metadata": {
        "id": "ni9Mqwb4kIiv"
      }
    },
    {
      "cell_type": "code",
      "source": [
        "kilometers = float(input(\"Enter value in kilometers: \"))\n",
        "conv_fac = 0.621371\n",
        "miles = kilometers * conv_fac\n",
        "print('%0.2f kilometers is equal to %0.2f miles' %(kilometers,miles))"
      ],
      "metadata": {
        "colab": {
          "base_uri": "https://localhost:8080/"
        },
        "id": "esTeYMc1kH6f",
        "outputId": "811d955d-efe4-45a7-c491-3c43eee7fc35"
      },
      "execution_count": 18,
      "outputs": [
        {
          "output_type": "stream",
          "name": "stdout",
          "text": [
            "Enter value in kilometers: 56\n",
            "56.00 kilometers is equal to 34.80 miles\n"
          ]
        }
      ]
    },
    {
      "cell_type": "markdown",
      "source": [
        "Usage of mathematical functions in python like math.ceil, floor, fabs, fmod, trunc,pow, sqrt etc"
      ],
      "metadata": {
        "id": "1uspmDD5pyOw"
      }
    },
    {
      "cell_type": "code",
      "source": [
        ""
      ],
      "metadata": {
        "id": "a8IaejARp5eA"
      },
      "execution_count": null,
      "outputs": []
    },
    {
      "cell_type": "markdown",
      "source": [
        "Accepting 5 different subject marks from user and displaying the grade of the student"
      ],
      "metadata": {
        "id": "cfmPBQ-lqFGw"
      }
    },
    {
      "cell_type": "code",
      "source": [
        "a=(int(input(\"Enter 1st subject marks\")))\n",
        "b=(int(input(\"Enter 2nd subject marks\")))\n",
        "c=(int(input(\"Enter 3rd subject marks\")))\n",
        "d=(int(input(\"Enter 4th subject marks\")))\n",
        "e=(int(input(\"Enter 5th subject marks\")))\n",
        "f=(a+b+c+d+e)/5\n",
        "if f>90:\n",
        "  print(\"grade A\")\n",
        "elif f>90 and f<95:\n",
        "  print(\"grade B\")\n",
        "elif f>80 and f<90:\n",
        "  print(\"grade C\")\n",
        "elif f>70:\n",
        "  print(\"grade D\")"
      ],
      "metadata": {
        "colab": {
          "base_uri": "https://localhost:8080/"
        },
        "id": "5IFW2KW0qEXQ",
        "outputId": "11641da0-00fd-44e9-a73e-2ccf01d671af"
      },
      "execution_count": 23,
      "outputs": [
        {
          "output_type": "stream",
          "name": "stdout",
          "text": [
            "Enter 1st subject marks76\n",
            "Enter 2nd subject marks90\n",
            "Enter 3rd subject marks99\n",
            "Enter 4th subject marks95\n",
            "Enter 5th subject marks78\n",
            "grade C\n"
          ]
        }
      ]
    },
    {
      "cell_type": "markdown",
      "source": [
        "decimal"
      ],
      "metadata": {
        "id": "hk1eDvIsu_rI"
      }
    },
    {
      "cell_type": "code",
      "source": [
        "a=float(input(\"Enter 1st subject marks\"))\n",
        "b=float(input(\"Enter 2nd subject marks\"))\n",
        "c=float(input(\"Enter 3rd subject marks\"))\n",
        "d=float(input(\"Enter 4th subject marks\"))\n",
        "e=float(input(\"Enter 5th subject marks\"))\n",
        "f=(a+b+c+d+e)/5\n",
        "if f>90:\n",
        "  print(\"grade A\")\n",
        "elif f>90 and f<95:\n",
        "  print(\"grade B\")\n",
        "elif f>80 and f<90:\n",
        "  print(\"grade C\")\n",
        "elif f>70:\n",
        "  print(\"grade D\")"
      ],
      "metadata": {
        "colab": {
          "base_uri": "https://localhost:8080/"
        },
        "id": "gwkphYs-r7U5",
        "outputId": "1a17ead0-828f-426d-c580-f81f8c2661ec"
      },
      "execution_count": 24,
      "outputs": [
        {
          "output_type": "stream",
          "name": "stdout",
          "text": [
            "Enter 1st subject marks99.5\n",
            "Enter 2nd subject marks55.6\n",
            "Enter 3rd subject marks85.7\n",
            "Enter 4th subject marks52.7\n",
            "Enter 5th subject marks99\n",
            "grade D\n"
          ]
        }
      ]
    }
  ]
}