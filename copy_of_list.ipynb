{
  "nbformat": 4,
  "nbformat_minor": 0,
  "metadata": {
    "colab": {
      "name": "copy of list",
      "provenance": [],
      "authorship_tag": "ABX9TyOACR9MdY6WGLKBQ5frfjPS",
      "include_colab_link": true
    },
    "kernelspec": {
      "name": "python3",
      "display_name": "Python 3"
    },
    "language_info": {
      "name": "python"
    }
  },
  "cells": [
    {
      "cell_type": "markdown",
      "metadata": {
        "id": "view-in-github",
        "colab_type": "text"
      },
      "source": [
        "<a href=\"https://colab.research.google.com/github/VU21CSEN0100182/PYTHON/blob/main/copy_of_list.ipynb\" target=\"_parent\"><img src=\"https://colab.research.google.com/assets/colab-badge.svg\" alt=\"Open In Colab\"/></a>"
      ]
    },
    {
      "cell_type": "markdown",
      "source": [
        "JOIN TWO LIST"
      ],
      "metadata": {
        "id": "v0hFO4wUPcqi"
      }
    },
    {
      "cell_type": "code",
      "execution_count": 1,
      "metadata": {
        "colab": {
          "base_uri": "https://localhost:8080/"
        },
        "id": "54K6l_atPLZY",
        "outputId": "5cba1d0a-a7ac-4096-ddf1-c344d22734ff"
      },
      "outputs": [
        {
          "output_type": "stream",
          "name": "stdout",
          "text": [
            "['d', 'e', 'f', 1, 2, 3]\n",
            "['d', 'e', 'f', '1,2,3']\n",
            "['d', 'e', 'f', 1, 2, 3]\n"
          ]
        }
      ],
      "source": [
        "a = [\"d\",\"e\",\"f\"]\n",
        "b = [1,2,3]\n",
        "c= a + b\n",
        "print(c)\n",
        "\n",
        "a = [\"d\",\"e\",\"f\"]\n",
        "b = [\"1,2,3\"]\n",
        "for x in b:\n",
        "  a.append(x)\n",
        "  print(a)\n",
        "\n",
        "#EXTEND \n",
        "a = [\"d\",\"e\",\"f\"]\n",
        "b = [1,2,3]\n",
        "a.extend(b)\n",
        "print(a)"
      ]
    },
    {
      "cell_type": "code",
      "source": [
        "fruit = [\"apple\",\"banana\",\"orange\"]\n",
        "mylist=fruit.copy()\n",
        "print(mylist)\n",
        "\n",
        "mylist=list(fruit)\n",
        "print(mylist)"
      ],
      "metadata": {
        "colab": {
          "base_uri": "https://localhost:8080/"
        },
        "id": "Y3-yHBVEPmMt",
        "outputId": "ff4ed2b9-3cd0-4258-9d03-49d17506d78c"
      },
      "execution_count": 3,
      "outputs": [
        {
          "output_type": "stream",
          "name": "stdout",
          "text": [
            "['apple', 'banana', 'orange']\n",
            "['apple', 'banana', 'orange']\n"
          ]
        }
      ]
    },
    {
      "cell_type": "markdown",
      "source": [
        "SORT ALPH"
      ],
      "metadata": {
        "id": "nIIsMJWfP7Iy"
      }
    },
    {
      "cell_type": "code",
      "source": [
        "fruit=[\"apple\",\"pineapple\",\"orange\",\"banana\",\"guava\"]\n",
        "fruit.sort()\n",
        "print(fruit)"
      ],
      "metadata": {
        "colab": {
          "base_uri": "https://localhost:8080/"
        },
        "id": "MtO8jnipPyiF",
        "outputId": "a82d467a-87e7-4945-b4a3-756a18b3c1ed"
      },
      "execution_count": 4,
      "outputs": [
        {
          "output_type": "stream",
          "name": "stdout",
          "text": [
            "['apple', 'banana', 'guava', 'orange', 'pineapple']\n"
          ]
        }
      ]
    },
    {
      "cell_type": "markdown",
      "source": [
        "SORT NUMBERICALLY"
      ],
      "metadata": {
        "id": "somg2HiQQEid"
      }
    },
    {
      "cell_type": "code",
      "source": [
        "number=[\"90\",\"50\",\"53\",\"66\",\"111\"]\n",
        "number.sort()\n",
        "print(number)"
      ],
      "metadata": {
        "colab": {
          "base_uri": "https://localhost:8080/"
        },
        "id": "XpdiSJ1mP_wn",
        "outputId": "553e2385-a512-46e1-c464-0447d42f17b8"
      },
      "execution_count": 5,
      "outputs": [
        {
          "output_type": "stream",
          "name": "stdout",
          "text": [
            "['111', '50', '53', '66', '90']\n"
          ]
        }
      ]
    },
    {
      "cell_type": "markdown",
      "source": [
        "SORT DESCENDING"
      ],
      "metadata": {
        "id": "v0_MvI6RQOvq"
      }
    },
    {
      "cell_type": "code",
      "source": [
        "fruit=[\"apple\",\"kiwi\",\"banana\",\"lichy\",\"mango\"]\n",
        "fruit.sort(reverse= True)\n",
        "print(fruit)\n",
        "numbers=[\"60\",\"12\",\"9\"]\n",
        "numbers.sort(reverse= True)\n",
        "print(numbers)"
      ],
      "metadata": {
        "colab": {
          "base_uri": "https://localhost:8080/"
        },
        "id": "BCrDfil2QIc4",
        "outputId": "ec1ae3d4-9f2b-46e0-aeaf-e4b7e18e3464"
      },
      "execution_count": 7,
      "outputs": [
        {
          "output_type": "stream",
          "name": "stdout",
          "text": [
            "['mango', 'lichy', 'kiwi', 'banana', 'apple']\n",
            "['9', '60', '12']\n"
          ]
        }
      ]
    },
    {
      "cell_type": "markdown",
      "source": [
        "REVERSE ORDER"
      ],
      "metadata": {
        "id": "LjqX0hgAQzUa"
      }
    },
    {
      "cell_type": "code",
      "source": [
        "fruit= [\"cherry\",\"watermelon\",\"apple\",\"grapes\",\"mango\"]\n",
        "fruit.reverse()\n",
        "print(fruit)"
      ],
      "metadata": {
        "colab": {
          "base_uri": "https://localhost:8080/"
        },
        "id": "4b58WsKVQq9f",
        "outputId": "4e7d39c8-acdd-41b0-dac6-5a7b38a24d70"
      },
      "execution_count": 10,
      "outputs": [
        {
          "output_type": "stream",
          "name": "stdout",
          "text": [
            "['mango', 'grapes', 'apple', 'watermelon', 'cherry']\n"
          ]
        }
      ]
    },
    {
      "cell_type": "markdown",
      "source": [
        "changing list items"
      ],
      "metadata": {
        "id": "mZNP_9fBRGcy"
      }
    },
    {
      "cell_type": "code",
      "source": [
        "fruit = [\"kiwi\",\"cherry\",\"lichy\",\"drangon\"]\n",
        "print(fruit)\n",
        "fruit[1:3]=[\"pipeapple\"]\n",
        "print(fruit)\n",
        "fruit[2:3]=[\"apple\",\"mango\"]\n",
        "print(fruit)"
      ],
      "metadata": {
        "colab": {
          "base_uri": "https://localhost:8080/"
        },
        "id": "puRRhKi0Q9L5",
        "outputId": "613c639d-f704-4cda-de2e-c647599ccd03"
      },
      "execution_count": 11,
      "outputs": [
        {
          "output_type": "stream",
          "name": "stdout",
          "text": [
            "['kiwi', 'cherry', 'lichy', 'drangon']\n",
            "['kiwi', 'pipeapple', 'drangon']\n",
            "['kiwi', 'pipeapple', 'apple', 'mango']\n"
          ]
        }
      ]
    },
    {
      "cell_type": "markdown",
      "source": [
        "EXTENDING THE ITEM"
      ],
      "metadata": {
        "id": "ql1gJfwFRSIP"
      }
    },
    {
      "cell_type": "code",
      "source": [
        "fruit=[\"kiwi\",\"apple\",\"lichy\",\"watermelon\"]\n",
        "print(fruit)\n",
        "fruit[2:4]=\"blackberry\"\n",
        "print(fruit)"
      ],
      "metadata": {
        "colab": {
          "base_uri": "https://localhost:8080/"
        },
        "id": "apfdIU0IRJti",
        "outputId": "9acd2e7e-aa8f-445c-a080-2ff777cdbec6"
      },
      "execution_count": 12,
      "outputs": [
        {
          "output_type": "stream",
          "name": "stdout",
          "text": [
            "['kiwi', 'apple', 'lichy', 'watermelon']\n",
            "['kiwi', 'apple', 'b', 'l', 'a', 'c', 'k', 'b', 'e', 'r', 'r', 'y']\n"
          ]
        }
      ]
    },
    {
      "cell_type": "markdown",
      "source": [
        "ADD LIST ITEMS"
      ],
      "metadata": {
        "id": "kDik5XVqRdxC"
      }
    },
    {
      "cell_type": "code",
      "source": [
        "fruit=[\"strawberry\",\"rasberry\",\"blackberry\",\"cherry\"]\n",
        "print(fruit)\n",
        "\n",
        "#APPEND\n",
        "fruit.append(\"apple\")\n",
        "print(fruit)\n",
        "\n",
        "#INSERTING\n",
        "fruit.insert(4,\"mango\")\n",
        "print(fruit)\n",
        "fruit.insert(1,\"banana\")\n",
        "print(fruit)"
      ],
      "metadata": {
        "colab": {
          "base_uri": "https://localhost:8080/"
        },
        "id": "6CEWyaUHRW9v",
        "outputId": "44e5fd2f-1009-4899-bc3e-44f08c4d9a37"
      },
      "execution_count": 13,
      "outputs": [
        {
          "output_type": "stream",
          "name": "stdout",
          "text": [
            "['strawberry', 'rasberry', 'blackberry', 'cherry']\n",
            "['strawberry', 'rasberry', 'blackberry', 'cherry', 'apple']\n",
            "['strawberry', 'rasberry', 'blackberry', 'cherry', 'mango', 'apple']\n",
            "['strawberry', 'banana', 'rasberry', 'blackberry', 'cherry', 'mango', 'apple']\n"
          ]
        }
      ]
    },
    {
      "cell_type": "markdown",
      "source": [
        "EXTENDING THE LIST"
      ],
      "metadata": {
        "id": "UCle_oXlRtyp"
      }
    },
    {
      "cell_type": "code",
      "source": [
        "extra=(\"kiwi\",\"lichy\")\n",
        "fruit.extend(extra)\n",
        "print(fruit)"
      ],
      "metadata": {
        "colab": {
          "base_uri": "https://localhost:8080/"
        },
        "id": "H0iT3hOnRi0-",
        "outputId": "1242afab-cec7-44a3-9957-37da89628fbd"
      },
      "execution_count": 14,
      "outputs": [
        {
          "output_type": "stream",
          "name": "stdout",
          "text": [
            "['strawberry', 'banana', 'rasberry', 'blackberry', 'cherry', 'mango', 'apple', 'kiwi', 'lichy']\n"
          ]
        }
      ]
    },
    {
      "cell_type": "code",
      "source": [
        "fruit=[\"kiwi\",\"lichy\",\"mango\",\"apple\"]\n",
        "print(fruit)"
      ],
      "metadata": {
        "colab": {
          "base_uri": "https://localhost:8080/"
        },
        "id": "nCZvVsKjRxZn",
        "outputId": "f5e5ba32-da42-432e-ff26-f54f98d3c81a"
      },
      "execution_count": 15,
      "outputs": [
        {
          "output_type": "stream",
          "name": "stdout",
          "text": [
            "['kiwi', 'lichy', 'mango', 'apple']\n"
          ]
        }
      ]
    },
    {
      "cell_type": "code",
      "source": [
        "print(fruit[-1])"
      ],
      "metadata": {
        "colab": {
          "base_uri": "https://localhost:8080/"
        },
        "id": "LMVQMGJ9R23h",
        "outputId": "67f0ca8f-3597-433f-e383-9f336bf2dc22"
      },
      "execution_count": 16,
      "outputs": [
        {
          "output_type": "stream",
          "name": "stdout",
          "text": [
            "apple\n"
          ]
        }
      ]
    },
    {
      "cell_type": "code",
      "source": [
        "fruit=[\"kiwi\",\"lichy\",\"mango\",\"apple\"]\n",
        "print(fruit)\n",
        "print(fruit[0:2])\n",
        "print(fruit[:2])\n",
        "print(fruit[1:2])\n",
        "print(fruit[1:])\n",
        "print(fruit[3:])"
      ],
      "metadata": {
        "colab": {
          "base_uri": "https://localhost:8080/"
        },
        "id": "C_07YEyhSGqD",
        "outputId": "65b198b4-df44-40e8-ffb9-0076624f0bfa"
      },
      "execution_count": 18,
      "outputs": [
        {
          "output_type": "stream",
          "name": "stdout",
          "text": [
            "['kiwi', 'lichy', 'mango', 'apple']\n",
            "['kiwi', 'lichy']\n",
            "['kiwi', 'lichy']\n",
            "['lichy']\n",
            "['lichy', 'mango', 'apple']\n",
            "['apple']\n"
          ]
        }
      ]
    },
    {
      "cell_type": "markdown",
      "source": [
        "CASE INSENSTIVE SORT"
      ],
      "metadata": {
        "id": "rIrxOxXhSy6S"
      }
    },
    {
      "cell_type": "code",
      "source": [
        "fruit = [\"banana\",\"mango\",\"watermelon\",\"grapes\",\"cherry\"]\n",
        "fruit.sort()\n",
        "print(fruit)"
      ],
      "metadata": {
        "colab": {
          "base_uri": "https://localhost:8080/"
        },
        "id": "nq6nGUb9SgBR",
        "outputId": "b20fac09-ee9b-4e96-9cd9-f189342e56ea"
      },
      "execution_count": 19,
      "outputs": [
        {
          "output_type": "stream",
          "name": "stdout",
          "text": [
            "['banana', 'cherry', 'grapes', 'mango', 'watermelon']\n"
          ]
        }
      ]
    },
    {
      "cell_type": "markdown",
      "source": [
        "FOR LOOP"
      ],
      "metadata": {
        "id": "j-bJAXFQTDQA"
      }
    },
    {
      "cell_type": "code",
      "source": [
        "vegetable=[\"carrot\",\"betroot\",\"onion\"]\n",
        "print(vegetable)\n",
        "for x in vegetable:\n",
        "  print(x)"
      ],
      "metadata": {
        "colab": {
          "base_uri": "https://localhost:8080/"
        },
        "id": "6DlxN6bCS1_D",
        "outputId": "bd9c2678-fe53-482c-b9c2-e27636193139"
      },
      "execution_count": 20,
      "outputs": [
        {
          "output_type": "stream",
          "name": "stdout",
          "text": [
            "['carrot', 'betroot', 'onion']\n",
            "carrot\n",
            "betroot\n",
            "onion\n"
          ]
        }
      ]
    },
    {
      "cell_type": "markdown",
      "source": [
        "range"
      ],
      "metadata": {
        "id": "lxLnHjVlTQVV"
      }
    },
    {
      "cell_type": "code",
      "source": [
        "vegetable=[\"carrot\",\"betroot\",\"onion\"]\n",
        "print(vegetable)\n",
        "for i in range(len(vegetable)):\n",
        "    print(vegetable[1])"
      ],
      "metadata": {
        "colab": {
          "base_uri": "https://localhost:8080/"
        },
        "id": "YbBs1ayrTFcF",
        "outputId": "53932522-3ccf-4c50-d23f-af0bef4dde13"
      },
      "execution_count": 21,
      "outputs": [
        {
          "output_type": "stream",
          "name": "stdout",
          "text": [
            "['carrot', 'betroot', 'onion']\n",
            "betroot\n",
            "betroot\n",
            "betroot\n"
          ]
        }
      ]
    },
    {
      "cell_type": "markdown",
      "source": [
        "WHILE LOOP"
      ],
      "metadata": {
        "id": "aRSsm0uwTkbA"
      }
    },
    {
      "cell_type": "code",
      "source": [
        "vegetable=[\"carrot\",\"betroot\",\"onion\"]\n",
        "print(vegetable)\n",
        "i=0\n",
        "while i < len(vegetable):\n",
        "    print(vegetable[i])\n",
        "    i=i+1"
      ],
      "metadata": {
        "colab": {
          "base_uri": "https://localhost:8080/"
        },
        "id": "wEszDAn2TU_z",
        "outputId": "f3c15b76-6ffd-43a0-cc34-850d39b18785"
      },
      "execution_count": 25,
      "outputs": [
        {
          "output_type": "stream",
          "name": "stdout",
          "text": [
            "['carrot', 'betroot', 'onion']\n",
            "carrot\n",
            "betroot\n",
            "onion\n"
          ]
        }
      ]
    },
    {
      "cell_type": "markdown",
      "source": [
        "FOR LOOP"
      ],
      "metadata": {
        "id": "-qGyQ3uzT25Y"
      }
    },
    {
      "cell_type": "code",
      "source": [
        "vegetable=[\"carrot\",\"betroot\",\"onion\"]\n",
        "print(vegetable)\n",
        "[print(x) for x in fruit]"
      ],
      "metadata": {
        "colab": {
          "base_uri": "https://localhost:8080/"
        },
        "id": "db-GqhXVTfxY",
        "outputId": "f63c9bb1-f2c2-4b27-a0b5-110f57b97035"
      },
      "execution_count": 26,
      "outputs": [
        {
          "output_type": "stream",
          "name": "stdout",
          "text": [
            "['carrot', 'betroot', 'onion']\n",
            "banana\n",
            "cherry\n",
            "grapes\n",
            "mango\n",
            "watermelon\n"
          ]
        },
        {
          "output_type": "execute_result",
          "data": {
            "text/plain": [
              "[None, None, None, None, None]"
            ]
          },
          "metadata": {},
          "execution_count": 26
        }
      ]
    },
    {
      "cell_type": "markdown",
      "source": [
        "printing list"
      ],
      "metadata": {
        "id": "hw1XUg-DUDNH"
      }
    },
    {
      "cell_type": "code",
      "source": [
        "fruit=[\"kiwi\",\"apple\",\"watermelon\",\"grapes\"]\n",
        "print(fruit)"
      ],
      "metadata": {
        "colab": {
          "base_uri": "https://localhost:8080/"
        },
        "id": "f_1C2rpBT7Te",
        "outputId": "b9c66aa6-a50e-48ad-a4e8-a7f1b6a90038"
      },
      "execution_count": 27,
      "outputs": [
        {
          "output_type": "stream",
          "name": "stdout",
          "text": [
            "['kiwi', 'apple', 'watermelon', 'grapes']\n"
          ]
        }
      ]
    },
    {
      "cell_type": "markdown",
      "source": [
        "LIST OF COMPREHENSION"
      ],
      "metadata": {
        "id": "N1UXOqk3UKrx"
      }
    },
    {
      "cell_type": "code",
      "source": [
        "fruit=[\"apple\",\"watermelon\",\"papaya\"]\n",
        "newlist=[x for x in fruit if \"y\" in x]\n",
        "print(newlist)\n",
        "\n",
        "newlist=[x for x in fruit if x !=\"apple\"]\n",
        "print(newlist)\n",
        "\n",
        "newlist=[x for x in fruit]\n",
        "print(newlist)\n",
        "\n",
        "newlist=[x for x in range(11)]\n",
        "print(newlist)\n",
        "\n",
        "newlist=[x for x in range(9) if x<5]\n",
        "print(newlist)\n",
        "\n",
        "newlist=[x.upper()for x in fruit]\n",
        "print(newlist)\n",
        "\n",
        "newlist=['hello' for x in fruit]\n",
        "print(newlist)\n",
        "\n",
        "newlist=[x if x !=\"apple\" else \"papaya\" for x in fruit]\n",
        "print(newlist)"
      ],
      "metadata": {
        "colab": {
          "base_uri": "https://localhost:8080/"
        },
        "id": "gStqfXVbUFtB",
        "outputId": "f6697f26-75f2-4b74-81c9-b1f5aca6e47c"
      },
      "execution_count": 28,
      "outputs": [
        {
          "output_type": "stream",
          "name": "stdout",
          "text": [
            "['papaya']\n",
            "['watermelon', 'papaya']\n",
            "['apple', 'watermelon', 'papaya']\n",
            "[0, 1, 2, 3, 4, 5, 6, 7, 8, 9, 10]\n",
            "[0, 1, 2, 3, 4]\n",
            "['APPLE', 'WATERMELON', 'PAPAYA']\n",
            "['hello', 'hello', 'hello']\n",
            "['papaya', 'watermelon', 'papaya']\n"
          ]
        }
      ]
    },
    {
      "cell_type": "markdown",
      "source": [
        "newlist"
      ],
      "metadata": {
        "id": "98xgDc-RUquU"
      }
    },
    {
      "cell_type": "code",
      "source": [
        "fruits = [\"apple\", \"banana\", \"cherry\", \"kiwi\", \"mango\"]\n",
        "for x in fruits:\n",
        "  if \"a\" in x:\n",
        "    newlist.append(x)\n",
        "print(newlist)"
      ],
      "metadata": {
        "colab": {
          "base_uri": "https://localhost:8080/"
        },
        "id": "HiV9gcrNUmt2",
        "outputId": "e6b928cf-08d6-49c8-99f1-01d04e53ad65"
      },
      "execution_count": 29,
      "outputs": [
        {
          "output_type": "stream",
          "name": "stdout",
          "text": [
            "['apple', 'banana', 'mango']\n"
          ]
        }
      ]
    },
    {
      "cell_type": "code",
      "source": [
        "fruits = [\"apple\", \"banana\", \"cherry\"]\n",
        "print(fruits[-1])"
      ],
      "metadata": {
        "colab": {
          "base_uri": "https://localhost:8080/"
        },
        "id": "MRjmWXyRU05y",
        "outputId": "10ece746-93d8-4cce-d2b1-604b42d70a57"
      },
      "execution_count": 30,
      "outputs": [
        {
          "output_type": "stream",
          "name": "stdout",
          "text": [
            "cherry\n"
          ]
        }
      ]
    }
  ]
}