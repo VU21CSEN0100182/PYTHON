{
  "nbformat": 4,
  "nbformat_minor": 0,
  "metadata": {
    "colab": {
      "name": "PYTHON PROGRAMMES",
      "provenance": [],
      "collapsed_sections": [],
      "authorship_tag": "ABX9TyOMGrE7obKkE5tsI+BZV9na",
      "include_colab_link": true
    },
    "kernelspec": {
      "name": "python3",
      "display_name": "Python 3"
    },
    "language_info": {
      "name": "python"
    }
  },
  "cells": [
    {
      "cell_type": "markdown",
      "metadata": {
        "id": "view-in-github",
        "colab_type": "text"
      },
      "source": [
        "<a href=\"https://colab.research.google.com/github/VU21CSEN0100182/PYTHON/blob/main/PYTHON_PROGRAMMES.ipynb\" target=\"_parent\"><img src=\"https://colab.research.google.com/assets/colab-badge.svg\" alt=\"Open In Colab\"/></a>"
      ]
    },
    {
      "cell_type": "code",
      "source": [
        "#1)write a python program to find power of number with recursion and without recursion(input n=2 , p=3)\n",
        "#with recursion\n",
        "def power(n,p):\n",
        "  if p==1:\n",
        "    return n\n",
        "  elif p==0:\n",
        "    return 1\n",
        "  else:\n",
        "    return n*power(n,p-1)\n",
        "n=int(input(\"base is:\"))\n",
        "p=int(input(\"exponent is\"))\n",
        "print(power(n,p))\n",
        "\n",
        "#without recursion\n",
        "a=int(input())\n",
        "b=int(input())\n",
        "print(a**b)"
      ],
      "metadata": {
        "colab": {
          "base_uri": "https://localhost:8080/"
        },
        "id": "WjJlM2dvsSXN",
        "outputId": "e3bd28f4-94d1-42d7-fd33-30f034a19b9c"
      },
      "execution_count": null,
      "outputs": [
        {
          "output_type": "stream",
          "name": "stdout",
          "text": [
            "base is:2\n",
            "exponent is3\n",
            "8\n",
            "2\n",
            "3\n",
            "8\n"
          ]
        }
      ]
    },
    {
      "cell_type": "code",
      "source": [
        "#without recursion\n",
        "a=int(input())\n",
        "b=int(input())\n",
        "print(a**b)"
      ],
      "metadata": {
        "colab": {
          "base_uri": "https://localhost:8080/"
        },
        "id": "oye1brtwykL3",
        "outputId": "ea87faf6-f8cd-47e1-d58f-5cb760665008"
      },
      "execution_count": null,
      "outputs": [
        {
          "output_type": "stream",
          "name": "stdout",
          "text": [
            "2\n",
            "3\n",
            "8\n"
          ]
        }
      ]
    },
    {
      "cell_type": "code",
      "source": [
        "#2)write a program to sort tuple by total digits (input: list=[(3,4,6,723),(1,2),(134,234,34)])\n",
        "      #output:[(1,2)(3,4,6,723)(34,134,234)]\n",
        "a=[(3,4,6,723),(1,2),(134,234,34)]\n",
        "for i in range (0,len(a)):\n",
        "  a[i]=sorted(a[i])\n",
        "print(sorted(a))"
      ],
      "metadata": {
        "colab": {
          "base_uri": "https://localhost:8080/"
        },
        "id": "x4TNFFtXs2G-",
        "outputId": "fe6c2821-28c1-4c58-ddc8-9360e5e65f06"
      },
      "execution_count": null,
      "outputs": [
        {
          "output_type": "stream",
          "name": "stdout",
          "text": [
            "[[1, 2], [3, 4, 6, 723], [34, 134, 234]]\n"
          ]
        }
      ]
    },
    {
      "cell_type": "code",
      "source": [
        "#3)take five subjects from the user and display the grade of the student,if average is 90-100(o),80-89(a+),70-79(a)...\n",
        "a=(int(input(\"enter the 1st number\")))\n",
        "b=(int(input(\"enter the 2nd number\")))\n",
        "c=(int(input(\"enter the 3rd number\")))\n",
        "d=(int(input(\"enter the 4th number\")))\n",
        "e=(int(input(\"enter the 5th number\")))\n",
        "avg=(a+b+c+d+e)/5\n",
        "if avg>=90:\n",
        "  print(\"a++\")\n",
        "elif avg>=80 and avg<90:\n",
        "  print(\"a+\")\n",
        "elif avg>=70 and avg<70:\n",
        "  print(\"a\")\n",
        "elif avg>=60 and avg<60:\n",
        "  print(\"Nice try\")\n",
        "elif avg>=50 and avg<50:\n",
        "  print(\"C\")\n",
        "elif avg>40 and avg<40:\n",
        "  print(\"D\")\n",
        "else:\n",
        "  print(\"F\")"
      ],
      "metadata": {
        "colab": {
          "base_uri": "https://localhost:8080/"
        },
        "id": "dog8mRuivAem",
        "outputId": "6c2cdc61-7fd3-4ad5-8d98-9041a72b1f8d"
      },
      "execution_count": null,
      "outputs": [
        {
          "output_type": "stream",
          "name": "stdout",
          "text": [
            "enter the 1st number98\n",
            "enter the 2nd number85\n",
            "enter the 3rd number100\n",
            "enter the 4th number96\n",
            "enter the 5th number97\n",
            "a++\n"
          ]
        }
      ]
    },
    {
      "cell_type": "code",
      "source": [
        "#4)write a python program that prints 1 if all three given numbers are ascending order.\n",
        "a=int(input(\"Enter a number\"))\n",
        "b=int(input(\"Enter a number\"))\n",
        "c=int(input(\"Enter a number\"))\n",
        "if a>b>c:\n",
        "  print(0)\n",
        "else:\n",
        "  print(1)"
      ],
      "metadata": {
        "id": "uEFLxoRKz6BA",
        "colab": {
          "base_uri": "https://localhost:8080/"
        },
        "outputId": "f722e0d9-fe24-49da-b5ac-c092986106eb"
      },
      "execution_count": 11,
      "outputs": [
        {
          "output_type": "stream",
          "name": "stdout",
          "text": [
            "Enter a number13\n",
            "Enter a number15\n",
            "Enter a number38\n",
            "1\n"
          ]
        }
      ]
    },
    {
      "cell_type": "code",
      "source": [
        ""
      ],
      "metadata": {
        "id": "JKZiYnpw2d9P"
      },
      "execution_count": null,
      "outputs": []
    },
    {
      "cell_type": "code",
      "source": [
        "#5)check a given number is perfect number are not\n",
        "n=int(input(\"Enter any number: \"))\n",
        "sum1=0\n",
        "for i in range(1, n):\n",
        "    if(n%i==0):\n",
        "        sum1=sum1+i\n",
        "if (sum1==n):\n",
        "    print(\"The number is a Perfect number!\")\n",
        "else:\n",
        "    print(\"The number is not a Perfect number!\")"
      ],
      "metadata": {
        "colab": {
          "base_uri": "https://localhost:8080/"
        },
        "id": "f7baKSqEun4t",
        "outputId": "5bc72c52-ecb9-4795-ba50-4a203795270c"
      },
      "execution_count": 2,
      "outputs": [
        {
          "output_type": "stream",
          "name": "stdout",
          "text": [
            "Enter any number: 4\n",
            "The number is not a Perfect number!\n"
          ]
        }
      ]
    },
    {
      "cell_type": "code",
      "source": [
        "#find the gcd of two numbers with and without recursion(5,3=1)\n",
        "import math\n",
        "a=int(input(\"Enter a number\"))\n",
        "b=int(input(\"Enter the number\"))\n",
        "print(\"GCD of a and b :\",end=\"\")\n",
        "print(math.gcd(a,d))"
      ],
      "metadata": {
        "colab": {
          "base_uri": "https://localhost:8080/",
          "height": 253
        },
        "id": "SF7d8ynLyqRF",
        "outputId": "5b732307-83cf-459e-f618-d327f9696e6f"
      },
      "execution_count": 10,
      "outputs": [
        {
          "output_type": "stream",
          "name": "stdout",
          "text": [
            "Enter a number7\n",
            "Enter the number8\n",
            "GCD of a and b :"
          ]
        },
        {
          "output_type": "error",
          "ename": "NameError",
          "evalue": "ignored",
          "traceback": [
            "\u001b[0;31m---------------------------------------------------------------------------\u001b[0m",
            "\u001b[0;31mNameError\u001b[0m                                 Traceback (most recent call last)",
            "\u001b[0;32m<ipython-input-10-8007c46a5421>\u001b[0m in \u001b[0;36m<module>\u001b[0;34m()\u001b[0m\n\u001b[1;32m      4\u001b[0m \u001b[0mb\u001b[0m\u001b[0;34m=\u001b[0m\u001b[0mint\u001b[0m\u001b[0;34m(\u001b[0m\u001b[0minput\u001b[0m\u001b[0;34m(\u001b[0m\u001b[0;34m\"Enter the number\"\u001b[0m\u001b[0;34m)\u001b[0m\u001b[0;34m)\u001b[0m\u001b[0;34m\u001b[0m\u001b[0;34m\u001b[0m\u001b[0m\n\u001b[1;32m      5\u001b[0m \u001b[0mprint\u001b[0m\u001b[0;34m(\u001b[0m\u001b[0;34m\"GCD of a and b :\"\u001b[0m\u001b[0;34m,\u001b[0m\u001b[0mend\u001b[0m\u001b[0;34m=\u001b[0m\u001b[0;34m\"\"\u001b[0m\u001b[0;34m)\u001b[0m\u001b[0;34m\u001b[0m\u001b[0;34m\u001b[0m\u001b[0m\n\u001b[0;32m----> 6\u001b[0;31m \u001b[0mprint\u001b[0m\u001b[0;34m(\u001b[0m\u001b[0mmath\u001b[0m\u001b[0;34m.\u001b[0m\u001b[0mgcd\u001b[0m\u001b[0;34m(\u001b[0m\u001b[0ma\u001b[0m\u001b[0;34m,\u001b[0m\u001b[0md\u001b[0m\u001b[0;34m)\u001b[0m\u001b[0;34m)\u001b[0m\u001b[0;34m\u001b[0m\u001b[0;34m\u001b[0m\u001b[0m\n\u001b[0m",
            "\u001b[0;31mNameError\u001b[0m: name 'd' is not defined"
          ]
        }
      ]
    },
    {
      "cell_type": "code",
      "source": [
        "#"
      ],
      "metadata": {
        "id": "IfRqQetz2Zrh"
      },
      "execution_count": null,
      "outputs": []
    },
    {
      "cell_type": "code",
      "source": [
        "def isPalindrome(s):\n",
        "\treturn s == s[::-1]\n",
        "s = \"malayalam\"\n",
        "ans = isPalindrome(s)\n",
        "if ans:\n",
        "\tprint(\"Yes\")\n",
        "else:\n",
        "\tprint(\"No\")"
      ],
      "metadata": {
        "colab": {
          "base_uri": "https://localhost:8080/"
        },
        "id": "e0JXiC69vJ-O",
        "outputId": "df11086d-5293-419b-8b07-cad53699b2d2"
      },
      "execution_count": 4,
      "outputs": [
        {
          "output_type": "stream",
          "name": "stdout",
          "text": [
            "Yes\n"
          ]
        }
      ]
    },
    {
      "cell_type": "code",
      "source": [
        "#21)write program to read any month in integer and display days for that month.\n",
        "a=int(input(\"Enter a number\"))\n",
        "b=[1,3,5,7,8,10,12]\n",
        "if a==2:\n",
        "  print(\"28/29\")\n",
        "elif a in b:\n",
        "  print(\"31\")\n",
        "elif a>13 and a<1:\n",
        "  print(\"Enter correct number\")\n",
        "else:\n",
        "  print(\"30\")"
      ],
      "metadata": {
        "colab": {
          "base_uri": "https://localhost:8080/"
        },
        "id": "c405v7Pml1lu",
        "outputId": "f8baad29-f512-40bf-fc02-f5f0f53127b6"
      },
      "execution_count": null,
      "outputs": [
        {
          "output_type": "stream",
          "name": "stdout",
          "text": [
            "Enter a number5\n",
            "31\n"
          ]
        }
      ]
    },
    {
      "cell_type": "code",
      "source": [
        "#22)write a python program to print even length words in string.\n",
        "a=input(\"Enter a string\")\n",
        "b=a.split()\n",
        "for i in b:\n",
        "  if len(i)%2==0:\n",
        "   print(i)"
      ],
      "metadata": {
        "colab": {
          "base_uri": "https://localhost:8080/"
        },
        "id": "kmfYy2Uxl7Od",
        "outputId": "bead1e5f-b87e-41b0-9630-581cde43356e"
      },
      "execution_count": null,
      "outputs": [
        {
          "output_type": "stream",
          "name": "stdout",
          "text": [
            "Enter a string\"this is python class\"\n",
            "is\n",
            "python\n",
            "class\"\n"
          ]
        }
      ]
    },
    {
      "cell_type": "code",
      "source": [
        "#prime number\n",
        "def prime(a,b):\n",
        " a=25 \n",
        " b=50\n",
        " for i in range(a,b+1):\n",
        "  k=0\n",
        " for j in range(2,i):\n",
        "  if i%j==0:\n",
        "    k+=1\n",
        "  if k==0:\n",
        "    print(i)\n",
        "prime(\"a\",\"b\")"
      ],
      "metadata": {
        "id": "aPLtDHs-m6ke"
      },
      "execution_count": null,
      "outputs": []
    }
  ]
}