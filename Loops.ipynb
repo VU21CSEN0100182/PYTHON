{
  "nbformat": 4,
  "nbformat_minor": 0,
  "metadata": {
    "colab": {
      "name": "Loops",
      "provenance": [],
      "collapsed_sections": [],
      "authorship_tag": "ABX9TyPolmBY/ZIuBAcAVVZVsH8R",
      "include_colab_link": true
    },
    "kernelspec": {
      "name": "python3",
      "display_name": "Python 3"
    },
    "language_info": {
      "name": "python"
    }
  },
  "cells": [
    {
      "cell_type": "markdown",
      "metadata": {
        "id": "view-in-github",
        "colab_type": "text"
      },
      "source": [
        "<a href=\"https://colab.research.google.com/github/VU21CSEN0100182/PYTHON/blob/main/Loops.ipynb\" target=\"_parent\"><img src=\"https://colab.research.google.com/assets/colab-badge.svg\" alt=\"Open In Colab\"/></a>"
      ]
    },
    {
      "cell_type": "markdown",
      "source": [
        "LOOP LISTS"
      ],
      "metadata": {
        "id": "d3NKozzp27Gt"
      }
    },
    {
      "cell_type": "code",
      "source": [
        "#for loop in list\n",
        "list=[\"summer\",\"winter\",\"rainy\"]\n",
        "for x in list:\n",
        "  print(x)\n",
        "#loop through index numbers\n",
        "list=[\"apple\",\"banana\",\"orange\"]\n",
        "for i in range(len(list)):\n",
        "  print(list[i])\n",
        "#using a while loop\n",
        "list=[\"gold\",\"daimond\",\"silver\",\"platinum\"]\n",
        "i=0\n",
        "while i < len(list):\n",
        "  print(list[i])\n",
        "  i=i+1\n",
        "#looping using list comprehension\n",
        "list=[\"chicken\",\"prawns\",\"mutton\",\"fish\"]\n",
        "[print(x) for x in list]"
      ],
      "metadata": {
        "colab": {
          "base_uri": "https://localhost:8080/"
        },
        "id": "tqQ9MLa_5MTh",
        "outputId": "9784dc30-5f73-48d8-f554-99a8f3fc051b"
      },
      "execution_count": 11,
      "outputs": [
        {
          "output_type": "stream",
          "name": "stdout",
          "text": [
            "summer\n",
            "winter\n",
            "rainy\n",
            "apple\n",
            "banana\n",
            "orange\n",
            "gold\n",
            "daimond\n",
            "silver\n",
            "platinum\n",
            "chicken\n",
            "prawns\n",
            "mutton\n",
            "fish\n"
          ]
        },
        {
          "output_type": "execute_result",
          "data": {
            "text/plain": [
              "[None, None, None, None]"
            ]
          },
          "metadata": {},
          "execution_count": 11
        }
      ]
    },
    {
      "cell_type": "markdown",
      "source": [
        "TUPLES"
      ],
      "metadata": {
        "id": "p8MXrGkj9dwq"
      }
    },
    {
      "cell_type": "code",
      "source": [
        "#for loop through a tuple\n",
        "tuple=(\"summer\",\"winter\",\"rainy\")\n",
        "for x in tuple:\n",
        "  print(x)\n",
        "#loop through the index numbers\n",
        "tuple=(\"sodium\",\"potasium\",\"lithium\",\"carbon\",\"ferrous\")\n",
        "for i in range(len(tuple)):\n",
        "  print(tuple[i])\n",
        "#using a while loop\n",
        "tuple=[\"gold\",\"daimond\",\"silver\",\"platinum\"]\n",
        "i=0\n",
        "while i < len(tuple):\n",
        "  print(tuple[i])\n",
        "  i=i+1"
      ],
      "metadata": {
        "colab": {
          "base_uri": "https://localhost:8080/"
        },
        "id": "MGioY-1b9fka",
        "outputId": "873f97b2-e32d-498b-9b0c-da71e455bf6c"
      },
      "execution_count": 14,
      "outputs": [
        {
          "output_type": "stream",
          "name": "stdout",
          "text": [
            "summer\n",
            "winter\n",
            "rainy\n",
            "sodium\n",
            "potasium\n",
            "lithium\n",
            "carbon\n",
            "ferrous\n",
            "gold\n",
            "daimond\n",
            "silver\n",
            "platinum\n"
          ]
        }
      ]
    },
    {
      "cell_type": "markdown",
      "source": [
        "SETS"
      ],
      "metadata": {
        "id": "NIKEXG6OCTLv"
      }
    },
    {
      "cell_type": "code",
      "source": [
        "#set\n",
        "set={\"biryani\",\"paneer\",\"sambar\",\"dal\",\"potato\"}\n",
        "print(set)\n",
        "#duplicate values will be ignored\n",
        "set={\"idly\",\"vada\",\"dosa\",\"puri\",\"vada\",\"chapati\",\"idly\",\"non\"}\n",
        "print(set)\n",
        "#loop sets\n",
        "set = {\"apple\", \"banana\", \"cherry\"}\n",
        "for x in set:\n",
        "  print(x)"
      ],
      "metadata": {
        "colab": {
          "base_uri": "https://localhost:8080/"
        },
        "id": "OetkrJQ7Amis",
        "outputId": "9f7d0d0b-320c-4753-80e0-05c56f99ef87"
      },
      "execution_count": 18,
      "outputs": [
        {
          "output_type": "stream",
          "name": "stdout",
          "text": [
            "{'biryani', 'paneer', 'sambar', 'potato', 'dal'}\n",
            "{'chapati', 'vada', 'non', 'puri', 'idly', 'dosa'}\n",
            "cherry\n",
            "apple\n",
            "banana\n"
          ]
        }
      ]
    },
    {
      "cell_type": "markdown",
      "source": [
        " Loop Dictionaries"
      ],
      "metadata": {
        "id": "c8EduiJ0Co5A"
      }
    },
    {
      "cell_type": "code",
      "source": [
        "#Loop Through a Dictionary\n",
        "dict=\t{\n",
        "  \"name\": \"srihitha\",\n",
        "  \"age\": \"18\",\n",
        "  \"year\": 2004\n",
        "}\n",
        "for x in dict:      #key names\n",
        " print(x)\n",
        "for x in dict:       #all values\n",
        "  print(dict[x])"
      ],
      "metadata": {
        "colab": {
          "base_uri": "https://localhost:8080/"
        },
        "id": "dGCz-X5LCjyA",
        "outputId": "57a94408-4be7-4f56-a0b8-e884ea4a988a"
      },
      "execution_count": 23,
      "outputs": [
        {
          "output_type": "stream",
          "name": "stdout",
          "text": [
            "name\n",
            "age\n",
            "year\n",
            "srihitha\n",
            "18\n",
            "2004\n"
          ]
        }
      ]
    }
  ]
}